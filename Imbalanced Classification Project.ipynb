{
 "cells": [
  {
   "cell_type": "markdown",
   "id": "57b7ae2f",
   "metadata": {},
   "source": [
    "### Imbalanced Classification Project\n",
    "### 1. Defining the  Question.\n",
    "- What is your research question? What problem is it that you are trying to solve?\n",
    "- We need to predict whether a customer will leave the bank soon and give recommenmdations?"
   ]
  },
  {
   "cell_type": "markdown",
   "id": "b96c19b0",
   "metadata": {},
   "source": [
    "## a) Specifying the Data Analysis Question\n",
    "Build a model with the maximum possible F1 score. To pass the project, you need an F1\n",
    "score of at least 0.59. Check the F1 for the test set."
   ]
  },
  {
   "cell_type": "markdown",
   "id": "7dad7513",
   "metadata": {},
   "source": [
    "#### b) Defining the Metric for Success\n",
    "What will convince you that your project has succeeded? We need to answer our Specific data analysis question."
   ]
  },
  {
   "cell_type": "markdown",
   "id": "a1b0167b",
   "metadata": {},
   "source": [
    "### c) Understanding the context"
   ]
  },
  {
   "cell_type": "markdown",
   "id": "2f923d09",
   "metadata": {},
   "source": [
    "Beta Bank customers are leaving: little by little, chipping away every month. The bankers\n",
    "figured out it’s cheaper to save the existing customers rather than to attract new ones.\n",
    "We need to predict whether a customer will leave the bank soon. You have the data on\n",
    "clients’ past behavior and termination of contracts with the bank.\n",
    "Build a model with the maximum possible F1 score. To pass the project, you need an F1\n",
    "score of at least 0.59. Check the F1 for the test set.\n",
    "Additionally, measure the AUC-ROC metric and compare it with the F1.\n",
    "1. Download and prepare the data. Explain the procedure.\n",
    "2. Examine the balance of classes. Train the model without taking into account the\n",
    "   imbalance. Briefly describe your findings.\n",
    "3. Improve the quality of the model. Make sure you use at least two approaches to\n",
    "    fixing class imbalance. Use the training set to pick the best parameters. Train\n",
    "    different models on training and validation sets. Find the best one. Briefly\n",
    "    describe your findings.\n",
    "4. Perform the final testing."
   ]
  },
  {
   "cell_type": "markdown",
   "id": "ccb17a60",
   "metadata": {},
   "source": [
    "#### d) Recording the Experimental Design"
   ]
  },
  {
   "cell_type": "markdown",
   "id": "600e871a",
   "metadata": {},
   "source": [
    "- 2. Read and Load Data\n",
    "- 3. Data Exploration and Validation\n",
    "- 4. Data Preparation Cleaning\n",
    "- 5. Data Modeling (Using Decision Trees, Random Forest and Logistic Regression)\n",
    "- 6. Hyparameter Tuning\n",
    "- 7. Model Evaluation\n",
    "- 8. Sanity check\n",
    "- 9. Findings and Recommendation"
   ]
  },
  {
   "cell_type": "markdown",
   "id": "5fdc453c",
   "metadata": {},
   "source": [
    "#### e)Data Relevance"
   ]
  },
  {
   "cell_type": "markdown",
   "id": "d19e0bcf",
   "metadata": {},
   "source": [
    "- The data is relevant since its based on customer bank history therefore it intends to answer the question."
   ]
  },
  {
   "cell_type": "markdown",
   "id": "6f55faae",
   "metadata": {},
   "source": [
    "#### 2 Read and load dataset"
   ]
  },
  {
   "cell_type": "code",
   "execution_count": 1,
   "id": "7249db2f",
   "metadata": {},
   "outputs": [],
   "source": [
    "# we import the libraries for data preprocessing\n",
    "import pandas as pd #linear algebra\n",
    "import numpy as np# data processing, CSV file I/O (e.g. pd.read_csv)\n",
    "import matplotlib.pyplot as plt\n",
    "import seaborn as sns"
   ]
  },
  {
   "cell_type": "code",
   "execution_count": 2,
   "id": "25af5fbf",
   "metadata": {},
   "outputs": [],
   "source": [
    "#read and load the dataset\n",
    "churn_df=pd.read_csv(\"churn.csv\")"
   ]
  },
  {
   "cell_type": "markdown",
   "id": "e10f112c",
   "metadata": {},
   "source": [
    "### 3 Data Exploration and Validation"
   ]
  },
  {
   "cell_type": "code",
   "execution_count": 3,
   "id": "8939d10e",
   "metadata": {},
   "outputs": [
    {
     "data": {
      "text/html": [
       "<div>\n",
       "<style scoped>\n",
       "    .dataframe tbody tr th:only-of-type {\n",
       "        vertical-align: middle;\n",
       "    }\n",
       "\n",
       "    .dataframe tbody tr th {\n",
       "        vertical-align: top;\n",
       "    }\n",
       "\n",
       "    .dataframe thead th {\n",
       "        text-align: right;\n",
       "    }\n",
       "</style>\n",
       "<table border=\"1\" class=\"dataframe\">\n",
       "  <thead>\n",
       "    <tr style=\"text-align: right;\">\n",
       "      <th></th>\n",
       "      <th>RowNumber</th>\n",
       "      <th>CustomerId</th>\n",
       "      <th>Surname</th>\n",
       "      <th>CreditScore</th>\n",
       "      <th>Geography</th>\n",
       "      <th>Gender</th>\n",
       "      <th>Age</th>\n",
       "      <th>Tenure</th>\n",
       "      <th>Balance</th>\n",
       "      <th>NumOfProducts</th>\n",
       "      <th>HasCrCard</th>\n",
       "      <th>IsActiveMember</th>\n",
       "      <th>EstimatedSalary</th>\n",
       "      <th>Exited</th>\n",
       "    </tr>\n",
       "  </thead>\n",
       "  <tbody>\n",
       "    <tr>\n",
       "      <th>0</th>\n",
       "      <td>1</td>\n",
       "      <td>15634602</td>\n",
       "      <td>Hargrave</td>\n",
       "      <td>619</td>\n",
       "      <td>France</td>\n",
       "      <td>Female</td>\n",
       "      <td>42</td>\n",
       "      <td>2.0</td>\n",
       "      <td>0.00</td>\n",
       "      <td>1</td>\n",
       "      <td>1</td>\n",
       "      <td>1</td>\n",
       "      <td>101348.88</td>\n",
       "      <td>1</td>\n",
       "    </tr>\n",
       "    <tr>\n",
       "      <th>1</th>\n",
       "      <td>2</td>\n",
       "      <td>15647311</td>\n",
       "      <td>Hill</td>\n",
       "      <td>608</td>\n",
       "      <td>Spain</td>\n",
       "      <td>Female</td>\n",
       "      <td>41</td>\n",
       "      <td>1.0</td>\n",
       "      <td>83807.86</td>\n",
       "      <td>1</td>\n",
       "      <td>0</td>\n",
       "      <td>1</td>\n",
       "      <td>112542.58</td>\n",
       "      <td>0</td>\n",
       "    </tr>\n",
       "    <tr>\n",
       "      <th>2</th>\n",
       "      <td>3</td>\n",
       "      <td>15619304</td>\n",
       "      <td>Onio</td>\n",
       "      <td>502</td>\n",
       "      <td>France</td>\n",
       "      <td>Female</td>\n",
       "      <td>42</td>\n",
       "      <td>8.0</td>\n",
       "      <td>159660.80</td>\n",
       "      <td>3</td>\n",
       "      <td>1</td>\n",
       "      <td>0</td>\n",
       "      <td>113931.57</td>\n",
       "      <td>1</td>\n",
       "    </tr>\n",
       "    <tr>\n",
       "      <th>3</th>\n",
       "      <td>4</td>\n",
       "      <td>15701354</td>\n",
       "      <td>Boni</td>\n",
       "      <td>699</td>\n",
       "      <td>France</td>\n",
       "      <td>Female</td>\n",
       "      <td>39</td>\n",
       "      <td>1.0</td>\n",
       "      <td>0.00</td>\n",
       "      <td>2</td>\n",
       "      <td>0</td>\n",
       "      <td>0</td>\n",
       "      <td>93826.63</td>\n",
       "      <td>0</td>\n",
       "    </tr>\n",
       "    <tr>\n",
       "      <th>4</th>\n",
       "      <td>5</td>\n",
       "      <td>15737888</td>\n",
       "      <td>Mitchell</td>\n",
       "      <td>850</td>\n",
       "      <td>Spain</td>\n",
       "      <td>Female</td>\n",
       "      <td>43</td>\n",
       "      <td>2.0</td>\n",
       "      <td>125510.82</td>\n",
       "      <td>1</td>\n",
       "      <td>1</td>\n",
       "      <td>1</td>\n",
       "      <td>79084.10</td>\n",
       "      <td>0</td>\n",
       "    </tr>\n",
       "  </tbody>\n",
       "</table>\n",
       "</div>"
      ],
      "text/plain": [
       "   RowNumber  CustomerId   Surname  CreditScore Geography  Gender  Age  \\\n",
       "0          1    15634602  Hargrave          619    France  Female   42   \n",
       "1          2    15647311      Hill          608     Spain  Female   41   \n",
       "2          3    15619304      Onio          502    France  Female   42   \n",
       "3          4    15701354      Boni          699    France  Female   39   \n",
       "4          5    15737888  Mitchell          850     Spain  Female   43   \n",
       "\n",
       "   Tenure    Balance  NumOfProducts  HasCrCard  IsActiveMember  \\\n",
       "0     2.0       0.00              1          1               1   \n",
       "1     1.0   83807.86              1          0               1   \n",
       "2     8.0  159660.80              3          1               0   \n",
       "3     1.0       0.00              2          0               0   \n",
       "4     2.0  125510.82              1          1               1   \n",
       "\n",
       "   EstimatedSalary  Exited  \n",
       "0        101348.88       1  \n",
       "1        112542.58       0  \n",
       "2        113931.57       1  \n",
       "3         93826.63       0  \n",
       "4         79084.10       0  "
      ]
     },
     "execution_count": 3,
     "metadata": {},
     "output_type": "execute_result"
    }
   ],
   "source": [
    "#preview the first five records\n",
    "churn_df.head()"
   ]
  },
  {
   "cell_type": "code",
   "execution_count": 4,
   "id": "dffae086",
   "metadata": {},
   "outputs": [
    {
     "data": {
      "text/html": [
       "<div>\n",
       "<style scoped>\n",
       "    .dataframe tbody tr th:only-of-type {\n",
       "        vertical-align: middle;\n",
       "    }\n",
       "\n",
       "    .dataframe tbody tr th {\n",
       "        vertical-align: top;\n",
       "    }\n",
       "\n",
       "    .dataframe thead th {\n",
       "        text-align: right;\n",
       "    }\n",
       "</style>\n",
       "<table border=\"1\" class=\"dataframe\">\n",
       "  <thead>\n",
       "    <tr style=\"text-align: right;\">\n",
       "      <th></th>\n",
       "      <th>RowNumber</th>\n",
       "      <th>CustomerId</th>\n",
       "      <th>Surname</th>\n",
       "      <th>CreditScore</th>\n",
       "      <th>Geography</th>\n",
       "      <th>Gender</th>\n",
       "      <th>Age</th>\n",
       "      <th>Tenure</th>\n",
       "      <th>Balance</th>\n",
       "      <th>NumOfProducts</th>\n",
       "      <th>HasCrCard</th>\n",
       "      <th>IsActiveMember</th>\n",
       "      <th>EstimatedSalary</th>\n",
       "      <th>Exited</th>\n",
       "    </tr>\n",
       "  </thead>\n",
       "  <tbody>\n",
       "    <tr>\n",
       "      <th>9995</th>\n",
       "      <td>9996</td>\n",
       "      <td>15606229</td>\n",
       "      <td>Obijiaku</td>\n",
       "      <td>771</td>\n",
       "      <td>France</td>\n",
       "      <td>Male</td>\n",
       "      <td>39</td>\n",
       "      <td>5.0</td>\n",
       "      <td>0.00</td>\n",
       "      <td>2</td>\n",
       "      <td>1</td>\n",
       "      <td>0</td>\n",
       "      <td>96270.64</td>\n",
       "      <td>0</td>\n",
       "    </tr>\n",
       "    <tr>\n",
       "      <th>9996</th>\n",
       "      <td>9997</td>\n",
       "      <td>15569892</td>\n",
       "      <td>Johnstone</td>\n",
       "      <td>516</td>\n",
       "      <td>France</td>\n",
       "      <td>Male</td>\n",
       "      <td>35</td>\n",
       "      <td>10.0</td>\n",
       "      <td>57369.61</td>\n",
       "      <td>1</td>\n",
       "      <td>1</td>\n",
       "      <td>1</td>\n",
       "      <td>101699.77</td>\n",
       "      <td>0</td>\n",
       "    </tr>\n",
       "    <tr>\n",
       "      <th>9997</th>\n",
       "      <td>9998</td>\n",
       "      <td>15584532</td>\n",
       "      <td>Liu</td>\n",
       "      <td>709</td>\n",
       "      <td>France</td>\n",
       "      <td>Female</td>\n",
       "      <td>36</td>\n",
       "      <td>7.0</td>\n",
       "      <td>0.00</td>\n",
       "      <td>1</td>\n",
       "      <td>0</td>\n",
       "      <td>1</td>\n",
       "      <td>42085.58</td>\n",
       "      <td>1</td>\n",
       "    </tr>\n",
       "    <tr>\n",
       "      <th>9998</th>\n",
       "      <td>9999</td>\n",
       "      <td>15682355</td>\n",
       "      <td>Sabbatini</td>\n",
       "      <td>772</td>\n",
       "      <td>Germany</td>\n",
       "      <td>Male</td>\n",
       "      <td>42</td>\n",
       "      <td>3.0</td>\n",
       "      <td>75075.31</td>\n",
       "      <td>2</td>\n",
       "      <td>1</td>\n",
       "      <td>0</td>\n",
       "      <td>92888.52</td>\n",
       "      <td>1</td>\n",
       "    </tr>\n",
       "    <tr>\n",
       "      <th>9999</th>\n",
       "      <td>10000</td>\n",
       "      <td>15628319</td>\n",
       "      <td>Walker</td>\n",
       "      <td>792</td>\n",
       "      <td>France</td>\n",
       "      <td>Female</td>\n",
       "      <td>28</td>\n",
       "      <td>NaN</td>\n",
       "      <td>130142.79</td>\n",
       "      <td>1</td>\n",
       "      <td>1</td>\n",
       "      <td>0</td>\n",
       "      <td>38190.78</td>\n",
       "      <td>0</td>\n",
       "    </tr>\n",
       "  </tbody>\n",
       "</table>\n",
       "</div>"
      ],
      "text/plain": [
       "      RowNumber  CustomerId    Surname  CreditScore Geography  Gender  Age  \\\n",
       "9995       9996    15606229   Obijiaku          771    France    Male   39   \n",
       "9996       9997    15569892  Johnstone          516    France    Male   35   \n",
       "9997       9998    15584532        Liu          709    France  Female   36   \n",
       "9998       9999    15682355  Sabbatini          772   Germany    Male   42   \n",
       "9999      10000    15628319     Walker          792    France  Female   28   \n",
       "\n",
       "      Tenure    Balance  NumOfProducts  HasCrCard  IsActiveMember  \\\n",
       "9995     5.0       0.00              2          1               0   \n",
       "9996    10.0   57369.61              1          1               1   \n",
       "9997     7.0       0.00              1          0               1   \n",
       "9998     3.0   75075.31              2          1               0   \n",
       "9999     NaN  130142.79              1          1               0   \n",
       "\n",
       "      EstimatedSalary  Exited  \n",
       "9995         96270.64       0  \n",
       "9996        101699.77       0  \n",
       "9997         42085.58       1  \n",
       "9998         92888.52       1  \n",
       "9999         38190.78       0  "
      ]
     },
     "execution_count": 4,
     "metadata": {},
     "output_type": "execute_result"
    }
   ],
   "source": [
    "#Previewing the last few records\n",
    "churn_df.tail()"
   ]
  },
  {
   "cell_type": "code",
   "execution_count": 5,
   "id": "11ad9e35",
   "metadata": {},
   "outputs": [
    {
     "data": {
      "text/plain": [
       "(10000, 14)"
      ]
     },
     "execution_count": 5,
     "metadata": {},
     "output_type": "execute_result"
    }
   ],
   "source": [
    "#preview the no. of records/ size of records\n",
    "churn_df.shape"
   ]
  },
  {
   "cell_type": "markdown",
   "id": "2a223d31",
   "metadata": {},
   "source": [
    "The data set has 10000 rows and 14 columns "
   ]
  },
  {
   "cell_type": "code",
   "execution_count": 6,
   "id": "65773dc2",
   "metadata": {},
   "outputs": [
    {
     "data": {
      "text/plain": [
       "['RowNumber',\n",
       " 'CustomerId',\n",
       " 'Surname',\n",
       " 'CreditScore',\n",
       " 'Geography',\n",
       " 'Gender',\n",
       " 'Age',\n",
       " 'Tenure',\n",
       " 'Balance',\n",
       " 'NumOfProducts',\n",
       " 'HasCrCard',\n",
       " 'IsActiveMember',\n",
       " 'EstimatedSalary',\n",
       " 'Exited']"
      ]
     },
     "execution_count": 6,
     "metadata": {},
     "output_type": "execute_result"
    }
   ],
   "source": [
    "#checking for column headers\n",
    "list(churn_df)"
   ]
  },
  {
   "cell_type": "code",
   "execution_count": 7,
   "id": "4bcce4bb",
   "metadata": {},
   "outputs": [
    {
     "name": "stdout",
     "output_type": "stream",
     "text": [
      "<class 'pandas.core.frame.DataFrame'>\n",
      "RangeIndex: 10000 entries, 0 to 9999\n",
      "Data columns (total 14 columns):\n",
      " #   Column           Non-Null Count  Dtype  \n",
      "---  ------           --------------  -----  \n",
      " 0   RowNumber        10000 non-null  int64  \n",
      " 1   CustomerId       10000 non-null  int64  \n",
      " 2   Surname          10000 non-null  object \n",
      " 3   CreditScore      10000 non-null  int64  \n",
      " 4   Geography        10000 non-null  object \n",
      " 5   Gender           10000 non-null  object \n",
      " 6   Age              10000 non-null  int64  \n",
      " 7   Tenure           9091 non-null   float64\n",
      " 8   Balance          10000 non-null  float64\n",
      " 9   NumOfProducts    10000 non-null  int64  \n",
      " 10  HasCrCard        10000 non-null  int64  \n",
      " 11  IsActiveMember   10000 non-null  int64  \n",
      " 12  EstimatedSalary  10000 non-null  float64\n",
      " 13  Exited           10000 non-null  int64  \n",
      "dtypes: float64(3), int64(8), object(3)\n",
      "memory usage: 1.1+ MB\n"
     ]
    }
   ],
   "source": [
    "#check for Index range,data columns and entries in our dataset\n",
    "churn_df.info()"
   ]
  },
  {
   "cell_type": "markdown",
   "id": "7d16949f",
   "metadata": {},
   "source": [
    "The dataframe has 1000 rows with 14 attributes. We review this further to identify what attributes will be necessary and what data manipulation needs to be carried out before exploring it."
   ]
  },
  {
   "cell_type": "markdown",
   "id": "1aad9c9d",
   "metadata": {},
   "source": [
    "#### 3a) External Data Source Validation\n",
    "Yes we have valid data for our project since it has variables that can assist create correlations."
   ]
  },
  {
   "cell_type": "markdown",
   "id": "d4a46f32",
   "metadata": {},
   "source": [
    "**- ●  Features**\n",
    "- ○  RowNumber — data string index\n",
    "- ○ CustomerId — unique customer identifier\n",
    "- ○ Surname — surname\n",
    "- ○ CreditScore — credit score\n",
    "- ○ Geography — country of residence\n",
    "- ○ Gender — gender\n",
    "- ○ Age — age\n",
    "- ○ Tenure — period of maturation for a customer’s fixed deposit (years)\n",
    "- ○ Balance — account balance\n",
    "- ○ NumOfProducts — number of banking products used by the customer\n",
    "- ○ HasCrCard — customer has a credit card\n",
    "- ○ IsActiveMember — customer’s activeness\n",
    "- ○ EstimatedSalary — estimated salary\n",
    "\n",
    "**-●Target**\n",
    "- ○ Exited — сustomer has left"
   ]
  },
  {
   "cell_type": "markdown",
   "id": "8c018c29",
   "metadata": {},
   "source": [
    "#### 4. Data Preparation Cleaning"
   ]
  },
  {
   "cell_type": "markdown",
   "id": "33e86e2f",
   "metadata": {},
   "source": [
    "We now begin our process of data cleaning, check for missing values, null values, inconsistent columns, duplicates therefore we need to standardize."
   ]
  },
  {
   "cell_type": "code",
   "execution_count": 8,
   "id": "fb552b5d",
   "metadata": {},
   "outputs": [
    {
     "data": {
      "text/plain": [
       "RowNumber            0\n",
       "CustomerId           0\n",
       "Surname              0\n",
       "CreditScore          0\n",
       "Geography            0\n",
       "Gender               0\n",
       "Age                  0\n",
       "Tenure             909\n",
       "Balance              0\n",
       "NumOfProducts        0\n",
       "HasCrCard            0\n",
       "IsActiveMember       0\n",
       "EstimatedSalary      0\n",
       "Exited               0\n",
       "dtype: int64"
      ]
     },
     "execution_count": 8,
     "metadata": {},
     "output_type": "execute_result"
    }
   ],
   "source": [
    "#we check for the missing values and in our data set\n",
    "churn_df.isnull().sum()"
   ]
  },
  {
   "cell_type": "markdown",
   "id": "133fb946",
   "metadata": {},
   "source": [
    "- our churn dataset Tenure has 909 missing values."
   ]
  },
  {
   "cell_type": "code",
   "execution_count": 9,
   "id": "4e81996a",
   "metadata": {},
   "outputs": [
    {
     "data": {
      "text/plain": [
       "0"
      ]
     },
     "execution_count": 9,
     "metadata": {},
     "output_type": "execute_result"
    }
   ],
   "source": [
    "#Checking for duplicates in our dataset\n",
    "sum(churn_df.duplicated())"
   ]
  },
  {
   "cell_type": "code",
   "execution_count": 10,
   "id": "e6edbd09",
   "metadata": {},
   "outputs": [
    {
     "data": {
      "text/plain": [
       "False"
      ]
     },
     "execution_count": 10,
     "metadata": {},
     "output_type": "execute_result"
    }
   ],
   "source": [
    "#checking if any of the columns are all null\n",
    "churn_df.isnull().all(1).any()"
   ]
  },
  {
   "cell_type": "code",
   "execution_count": 11,
   "id": "c78e2173",
   "metadata": {},
   "outputs": [
    {
     "data": {
      "text/plain": [
       "False"
      ]
     },
     "execution_count": 11,
     "metadata": {},
     "output_type": "execute_result"
    }
   ],
   "source": [
    "# We check if any of the rows in the dataset are all null\n",
    "churn_df.isnull().all(1).any()"
   ]
  },
  {
   "cell_type": "markdown",
   "id": "10314590",
   "metadata": {},
   "source": [
    "we do not have duplicates neither do we have null values in the columns and rows"
   ]
  },
  {
   "cell_type": "code",
   "execution_count": 12,
   "id": "f77a0f6c",
   "metadata": {},
   "outputs": [
    {
     "data": {
      "text/plain": [
       "RowNumber          10000\n",
       "CustomerId         10000\n",
       "Surname             2932\n",
       "CreditScore          460\n",
       "Geography              3\n",
       "Gender                 2\n",
       "Age                   70\n",
       "Tenure                11\n",
       "Balance             6382\n",
       "NumOfProducts          4\n",
       "HasCrCard              2\n",
       "IsActiveMember         2\n",
       "EstimatedSalary     9999\n",
       "Exited                 2\n",
       "dtype: int64"
      ]
     },
     "execution_count": 12,
     "metadata": {},
     "output_type": "execute_result"
    }
   ],
   "source": [
    "#Get unique count for each variable\n",
    "churn_df.nunique()"
   ]
  },
  {
   "cell_type": "markdown",
   "id": "f21bcc50",
   "metadata": {},
   "source": [
    "From the above, we will not require the first 2 attributes as the are specific to a customer. It is borderline with the surname as this would result to profiling so we exclude this as well."
   ]
  },
  {
   "cell_type": "code",
   "execution_count": 13,
   "id": "b49c8438",
   "metadata": {},
   "outputs": [],
   "source": [
    "#Drop the columns as explained above\n",
    "churn_df1 = churn_df.drop([\"RowNumber\", \"CustomerId\", \"Surname\"], axis = 1)"
   ]
  },
  {
   "cell_type": "markdown",
   "id": "e3091162",
   "metadata": {},
   "source": [
    "- RowNumber -corresponds to the record (row) number and has no effect on the output. This column will be removed.\n",
    "- CustomerId -contains random values and has no effect on customer leaving the bank. This column will be removed\n",
    "- Surname - the surname of a customer has no impact on their decision to leave the bank. This column will be removed."
   ]
  },
  {
   "cell_type": "code",
   "execution_count": 14,
   "id": "36b73075",
   "metadata": {},
   "outputs": [
    {
     "data": {
      "text/html": [
       "<div>\n",
       "<style scoped>\n",
       "    .dataframe tbody tr th:only-of-type {\n",
       "        vertical-align: middle;\n",
       "    }\n",
       "\n",
       "    .dataframe tbody tr th {\n",
       "        vertical-align: top;\n",
       "    }\n",
       "\n",
       "    .dataframe thead th {\n",
       "        text-align: right;\n",
       "    }\n",
       "</style>\n",
       "<table border=\"1\" class=\"dataframe\">\n",
       "  <thead>\n",
       "    <tr style=\"text-align: right;\">\n",
       "      <th></th>\n",
       "      <th>CreditScore</th>\n",
       "      <th>Geography</th>\n",
       "      <th>Gender</th>\n",
       "      <th>Age</th>\n",
       "      <th>Tenure</th>\n",
       "      <th>Balance</th>\n",
       "      <th>NumOfProducts</th>\n",
       "      <th>HasCrCard</th>\n",
       "      <th>IsActiveMember</th>\n",
       "      <th>EstimatedSalary</th>\n",
       "      <th>Exited</th>\n",
       "    </tr>\n",
       "  </thead>\n",
       "  <tbody>\n",
       "    <tr>\n",
       "      <th>0</th>\n",
       "      <td>619</td>\n",
       "      <td>France</td>\n",
       "      <td>Female</td>\n",
       "      <td>42</td>\n",
       "      <td>2.0</td>\n",
       "      <td>0.00</td>\n",
       "      <td>1</td>\n",
       "      <td>1</td>\n",
       "      <td>1</td>\n",
       "      <td>101348.88</td>\n",
       "      <td>1</td>\n",
       "    </tr>\n",
       "    <tr>\n",
       "      <th>1</th>\n",
       "      <td>608</td>\n",
       "      <td>Spain</td>\n",
       "      <td>Female</td>\n",
       "      <td>41</td>\n",
       "      <td>1.0</td>\n",
       "      <td>83807.86</td>\n",
       "      <td>1</td>\n",
       "      <td>0</td>\n",
       "      <td>1</td>\n",
       "      <td>112542.58</td>\n",
       "      <td>0</td>\n",
       "    </tr>\n",
       "    <tr>\n",
       "      <th>2</th>\n",
       "      <td>502</td>\n",
       "      <td>France</td>\n",
       "      <td>Female</td>\n",
       "      <td>42</td>\n",
       "      <td>8.0</td>\n",
       "      <td>159660.80</td>\n",
       "      <td>3</td>\n",
       "      <td>1</td>\n",
       "      <td>0</td>\n",
       "      <td>113931.57</td>\n",
       "      <td>1</td>\n",
       "    </tr>\n",
       "    <tr>\n",
       "      <th>3</th>\n",
       "      <td>699</td>\n",
       "      <td>France</td>\n",
       "      <td>Female</td>\n",
       "      <td>39</td>\n",
       "      <td>1.0</td>\n",
       "      <td>0.00</td>\n",
       "      <td>2</td>\n",
       "      <td>0</td>\n",
       "      <td>0</td>\n",
       "      <td>93826.63</td>\n",
       "      <td>0</td>\n",
       "    </tr>\n",
       "    <tr>\n",
       "      <th>4</th>\n",
       "      <td>850</td>\n",
       "      <td>Spain</td>\n",
       "      <td>Female</td>\n",
       "      <td>43</td>\n",
       "      <td>2.0</td>\n",
       "      <td>125510.82</td>\n",
       "      <td>1</td>\n",
       "      <td>1</td>\n",
       "      <td>1</td>\n",
       "      <td>79084.10</td>\n",
       "      <td>0</td>\n",
       "    </tr>\n",
       "  </tbody>\n",
       "</table>\n",
       "</div>"
      ],
      "text/plain": [
       "   CreditScore Geography  Gender  Age  Tenure    Balance  NumOfProducts  \\\n",
       "0          619    France  Female   42     2.0       0.00              1   \n",
       "1          608     Spain  Female   41     1.0   83807.86              1   \n",
       "2          502    France  Female   42     8.0  159660.80              3   \n",
       "3          699    France  Female   39     1.0       0.00              2   \n",
       "4          850     Spain  Female   43     2.0  125510.82              1   \n",
       "\n",
       "   HasCrCard  IsActiveMember  EstimatedSalary  Exited  \n",
       "0          1               1        101348.88       1  \n",
       "1          0               1        112542.58       0  \n",
       "2          1               0        113931.57       1  \n",
       "3          0               0         93826.63       0  \n",
       "4          1               1         79084.10       0  "
      ]
     },
     "execution_count": 14,
     "metadata": {},
     "output_type": "execute_result"
    }
   ],
   "source": [
    "churn_df1.head()"
   ]
  },
  {
   "cell_type": "code",
   "execution_count": 15,
   "id": "a6420dff",
   "metadata": {},
   "outputs": [
    {
     "data": {
      "text/plain": [
       "CreditScore          0\n",
       "Geography            0\n",
       "Gender               0\n",
       "Age                  0\n",
       "Tenure             909\n",
       "Balance              0\n",
       "NumOfProducts        0\n",
       "HasCrCard            0\n",
       "IsActiveMember       0\n",
       "EstimatedSalary      0\n",
       "Exited               0\n",
       "dtype: int64"
      ]
     },
     "execution_count": 15,
     "metadata": {},
     "output_type": "execute_result"
    }
   ],
   "source": [
    "#we check for the missing values and in our data set\n",
    "churn_df1.isnull().sum()"
   ]
  },
  {
   "cell_type": "code",
   "execution_count": 16,
   "id": "58bac4b9",
   "metadata": {},
   "outputs": [
    {
     "data": {
      "text/html": [
       "<div>\n",
       "<style scoped>\n",
       "    .dataframe tbody tr th:only-of-type {\n",
       "        vertical-align: middle;\n",
       "    }\n",
       "\n",
       "    .dataframe tbody tr th {\n",
       "        vertical-align: top;\n",
       "    }\n",
       "\n",
       "    .dataframe thead th {\n",
       "        text-align: right;\n",
       "    }\n",
       "</style>\n",
       "<table border=\"1\" class=\"dataframe\">\n",
       "  <thead>\n",
       "    <tr style=\"text-align: right;\">\n",
       "      <th></th>\n",
       "      <th>Number of Missing Values</th>\n",
       "    </tr>\n",
       "  </thead>\n",
       "  <tbody>\n",
       "    <tr>\n",
       "      <th>CreditScore</th>\n",
       "      <td>0</td>\n",
       "    </tr>\n",
       "    <tr>\n",
       "      <th>Geography</th>\n",
       "      <td>0</td>\n",
       "    </tr>\n",
       "    <tr>\n",
       "      <th>Gender</th>\n",
       "      <td>0</td>\n",
       "    </tr>\n",
       "    <tr>\n",
       "      <th>Age</th>\n",
       "      <td>0</td>\n",
       "    </tr>\n",
       "    <tr>\n",
       "      <th>Tenure</th>\n",
       "      <td>909</td>\n",
       "    </tr>\n",
       "    <tr>\n",
       "      <th>Balance</th>\n",
       "      <td>0</td>\n",
       "    </tr>\n",
       "    <tr>\n",
       "      <th>NumOfProducts</th>\n",
       "      <td>0</td>\n",
       "    </tr>\n",
       "    <tr>\n",
       "      <th>HasCrCard</th>\n",
       "      <td>0</td>\n",
       "    </tr>\n",
       "    <tr>\n",
       "      <th>IsActiveMember</th>\n",
       "      <td>0</td>\n",
       "    </tr>\n",
       "    <tr>\n",
       "      <th>EstimatedSalary</th>\n",
       "      <td>0</td>\n",
       "    </tr>\n",
       "    <tr>\n",
       "      <th>Exited</th>\n",
       "      <td>0</td>\n",
       "    </tr>\n",
       "  </tbody>\n",
       "</table>\n",
       "</div>"
      ],
      "text/plain": [
       "                 Number of Missing Values\n",
       "CreditScore                             0\n",
       "Geography                               0\n",
       "Gender                                  0\n",
       "Age                                     0\n",
       "Tenure                                909\n",
       "Balance                                 0\n",
       "NumOfProducts                           0\n",
       "HasCrCard                               0\n",
       "IsActiveMember                          0\n",
       "EstimatedSalary                         0\n",
       "Exited                                  0"
      ]
     },
     "execution_count": 16,
     "metadata": {},
     "output_type": "execute_result"
    }
   ],
   "source": [
    "# Check if there's missing data\n",
    "# Turn it into a dataframe\n",
    "pd.DataFrame(churn_df1.isnull().sum(), columns=[\"Number of Missing Values\"])"
   ]
  },
  {
   "cell_type": "markdown",
   "id": "56a69cbb",
   "metadata": {},
   "source": [
    "- Tenure- refers to the number of years that the customer has been a client of the bank. Normally, older clients are more loyal and less likely to leave a bank. Therefore the missing values could be the customers account have not even hit a month we replace it with the value zero."
   ]
  },
  {
   "cell_type": "code",
   "execution_count": 17,
   "id": "8731aeb4",
   "metadata": {},
   "outputs": [
    {
     "name": "stderr",
     "output_type": "stream",
     "text": [
      "<ipython-input-17-873e8aea2c68>:2: FutureWarning: The default value of regex will change from True to False in a future version. In addition, single character regular expressions will*not* be treated as literal strings when regex=True.\n",
      "  churn_df1.columns = churn_df1.columns.str.strip().str.lower().str.replace(' ','_').str.replace('?','')\n"
     ]
    },
    {
     "data": {
      "text/plain": [
       "['creditscore',\n",
       " 'geography',\n",
       " 'gender',\n",
       " 'age',\n",
       " 'tenure',\n",
       " 'balance',\n",
       " 'numofproducts',\n",
       " 'hascrcard',\n",
       " 'isactivemember',\n",
       " 'estimatedsalary',\n",
       " 'exited']"
      ]
     },
     "execution_count": 17,
     "metadata": {},
     "output_type": "execute_result"
    }
   ],
   "source": [
    "# Standardize column names - strip whitespaces, convert to lowercase, replace ' ' with '_' and remove '?'\n",
    "churn_df1.columns = churn_df1.columns.str.strip().str.lower().str.replace(' ','_').str.replace('?','')\n",
    "list(churn_df1.columns)"
   ]
  },
  {
   "cell_type": "code",
   "execution_count": 18,
   "id": "4746f9ff",
   "metadata": {},
   "outputs": [
    {
     "data": {
      "text/html": [
       "<div>\n",
       "<style scoped>\n",
       "    .dataframe tbody tr th:only-of-type {\n",
       "        vertical-align: middle;\n",
       "    }\n",
       "\n",
       "    .dataframe tbody tr th {\n",
       "        vertical-align: top;\n",
       "    }\n",
       "\n",
       "    .dataframe thead th {\n",
       "        text-align: right;\n",
       "    }\n",
       "</style>\n",
       "<table border=\"1\" class=\"dataframe\">\n",
       "  <thead>\n",
       "    <tr style=\"text-align: right;\">\n",
       "      <th></th>\n",
       "      <th>creditscore</th>\n",
       "      <th>geography</th>\n",
       "      <th>gender</th>\n",
       "      <th>age</th>\n",
       "      <th>tenure</th>\n",
       "      <th>balance</th>\n",
       "      <th>numofproducts</th>\n",
       "      <th>hascrcard</th>\n",
       "      <th>isactivemember</th>\n",
       "      <th>estimatedsalary</th>\n",
       "      <th>exited</th>\n",
       "    </tr>\n",
       "  </thead>\n",
       "  <tbody>\n",
       "    <tr>\n",
       "      <th>6627</th>\n",
       "      <td>558</td>\n",
       "      <td>France</td>\n",
       "      <td>Female</td>\n",
       "      <td>41</td>\n",
       "      <td>6.0</td>\n",
       "      <td>0.00</td>\n",
       "      <td>1</td>\n",
       "      <td>1</td>\n",
       "      <td>1</td>\n",
       "      <td>143585.29</td>\n",
       "      <td>1</td>\n",
       "    </tr>\n",
       "    <tr>\n",
       "      <th>9650</th>\n",
       "      <td>834</td>\n",
       "      <td>Spain</td>\n",
       "      <td>Male</td>\n",
       "      <td>33</td>\n",
       "      <td>5.0</td>\n",
       "      <td>0.00</td>\n",
       "      <td>2</td>\n",
       "      <td>1</td>\n",
       "      <td>0</td>\n",
       "      <td>66285.18</td>\n",
       "      <td>0</td>\n",
       "    </tr>\n",
       "    <tr>\n",
       "      <th>8091</th>\n",
       "      <td>768</td>\n",
       "      <td>France</td>\n",
       "      <td>Male</td>\n",
       "      <td>29</td>\n",
       "      <td>2.0</td>\n",
       "      <td>95984.69</td>\n",
       "      <td>2</td>\n",
       "      <td>1</td>\n",
       "      <td>1</td>\n",
       "      <td>73686.75</td>\n",
       "      <td>0</td>\n",
       "    </tr>\n",
       "    <tr>\n",
       "      <th>9087</th>\n",
       "      <td>714</td>\n",
       "      <td>France</td>\n",
       "      <td>Male</td>\n",
       "      <td>35</td>\n",
       "      <td>3.0</td>\n",
       "      <td>0.00</td>\n",
       "      <td>2</td>\n",
       "      <td>1</td>\n",
       "      <td>1</td>\n",
       "      <td>95623.28</td>\n",
       "      <td>0</td>\n",
       "    </tr>\n",
       "    <tr>\n",
       "      <th>299</th>\n",
       "      <td>627</td>\n",
       "      <td>France</td>\n",
       "      <td>Male</td>\n",
       "      <td>33</td>\n",
       "      <td>5.0</td>\n",
       "      <td>0.00</td>\n",
       "      <td>2</td>\n",
       "      <td>1</td>\n",
       "      <td>1</td>\n",
       "      <td>103737.82</td>\n",
       "      <td>0</td>\n",
       "    </tr>\n",
       "    <tr>\n",
       "      <th>9565</th>\n",
       "      <td>582</td>\n",
       "      <td>France</td>\n",
       "      <td>Female</td>\n",
       "      <td>38</td>\n",
       "      <td>9.0</td>\n",
       "      <td>135979.01</td>\n",
       "      <td>4</td>\n",
       "      <td>1</td>\n",
       "      <td>1</td>\n",
       "      <td>76582.95</td>\n",
       "      <td>1</td>\n",
       "    </tr>\n",
       "    <tr>\n",
       "      <th>8289</th>\n",
       "      <td>682</td>\n",
       "      <td>France</td>\n",
       "      <td>Male</td>\n",
       "      <td>40</td>\n",
       "      <td>NaN</td>\n",
       "      <td>0.00</td>\n",
       "      <td>1</td>\n",
       "      <td>0</td>\n",
       "      <td>1</td>\n",
       "      <td>105352.55</td>\n",
       "      <td>0</td>\n",
       "    </tr>\n",
       "    <tr>\n",
       "      <th>7898</th>\n",
       "      <td>635</td>\n",
       "      <td>France</td>\n",
       "      <td>Female</td>\n",
       "      <td>72</td>\n",
       "      <td>4.0</td>\n",
       "      <td>74812.84</td>\n",
       "      <td>1</td>\n",
       "      <td>0</td>\n",
       "      <td>1</td>\n",
       "      <td>27448.33</td>\n",
       "      <td>0</td>\n",
       "    </tr>\n",
       "    <tr>\n",
       "      <th>2231</th>\n",
       "      <td>746</td>\n",
       "      <td>France</td>\n",
       "      <td>Male</td>\n",
       "      <td>35</td>\n",
       "      <td>2.0</td>\n",
       "      <td>172274.01</td>\n",
       "      <td>1</td>\n",
       "      <td>1</td>\n",
       "      <td>0</td>\n",
       "      <td>22374.97</td>\n",
       "      <td>0</td>\n",
       "    </tr>\n",
       "    <tr>\n",
       "      <th>7352</th>\n",
       "      <td>726</td>\n",
       "      <td>France</td>\n",
       "      <td>Female</td>\n",
       "      <td>38</td>\n",
       "      <td>4.0</td>\n",
       "      <td>0.00</td>\n",
       "      <td>2</td>\n",
       "      <td>0</td>\n",
       "      <td>0</td>\n",
       "      <td>6787.48</td>\n",
       "      <td>0</td>\n",
       "    </tr>\n",
       "    <tr>\n",
       "      <th>5685</th>\n",
       "      <td>705</td>\n",
       "      <td>Spain</td>\n",
       "      <td>Female</td>\n",
       "      <td>47</td>\n",
       "      <td>3.0</td>\n",
       "      <td>63488.70</td>\n",
       "      <td>1</td>\n",
       "      <td>0</td>\n",
       "      <td>1</td>\n",
       "      <td>28640.92</td>\n",
       "      <td>1</td>\n",
       "    </tr>\n",
       "    <tr>\n",
       "      <th>1652</th>\n",
       "      <td>616</td>\n",
       "      <td>France</td>\n",
       "      <td>Male</td>\n",
       "      <td>59</td>\n",
       "      <td>NaN</td>\n",
       "      <td>153861.10</td>\n",
       "      <td>1</td>\n",
       "      <td>1</td>\n",
       "      <td>1</td>\n",
       "      <td>17699.48</td>\n",
       "      <td>0</td>\n",
       "    </tr>\n",
       "    <tr>\n",
       "      <th>6580</th>\n",
       "      <td>527</td>\n",
       "      <td>Germany</td>\n",
       "      <td>Female</td>\n",
       "      <td>30</td>\n",
       "      <td>6.0</td>\n",
       "      <td>126663.51</td>\n",
       "      <td>1</td>\n",
       "      <td>1</td>\n",
       "      <td>1</td>\n",
       "      <td>162267.91</td>\n",
       "      <td>0</td>\n",
       "    </tr>\n",
       "    <tr>\n",
       "      <th>2819</th>\n",
       "      <td>730</td>\n",
       "      <td>France</td>\n",
       "      <td>Female</td>\n",
       "      <td>34</td>\n",
       "      <td>5.0</td>\n",
       "      <td>74197.38</td>\n",
       "      <td>2</td>\n",
       "      <td>1</td>\n",
       "      <td>0</td>\n",
       "      <td>96875.52</td>\n",
       "      <td>0</td>\n",
       "    </tr>\n",
       "    <tr>\n",
       "      <th>9127</th>\n",
       "      <td>630</td>\n",
       "      <td>Spain</td>\n",
       "      <td>Male</td>\n",
       "      <td>39</td>\n",
       "      <td>10.0</td>\n",
       "      <td>105473.74</td>\n",
       "      <td>1</td>\n",
       "      <td>0</td>\n",
       "      <td>0</td>\n",
       "      <td>58854.88</td>\n",
       "      <td>1</td>\n",
       "    </tr>\n",
       "    <tr>\n",
       "      <th>3586</th>\n",
       "      <td>826</td>\n",
       "      <td>France</td>\n",
       "      <td>Male</td>\n",
       "      <td>55</td>\n",
       "      <td>NaN</td>\n",
       "      <td>115285.85</td>\n",
       "      <td>1</td>\n",
       "      <td>1</td>\n",
       "      <td>0</td>\n",
       "      <td>140126.17</td>\n",
       "      <td>0</td>\n",
       "    </tr>\n",
       "    <tr>\n",
       "      <th>2408</th>\n",
       "      <td>653</td>\n",
       "      <td>Spain</td>\n",
       "      <td>Male</td>\n",
       "      <td>55</td>\n",
       "      <td>7.0</td>\n",
       "      <td>0.00</td>\n",
       "      <td>2</td>\n",
       "      <td>1</td>\n",
       "      <td>1</td>\n",
       "      <td>41967.03</td>\n",
       "      <td>0</td>\n",
       "    </tr>\n",
       "    <tr>\n",
       "      <th>323</th>\n",
       "      <td>763</td>\n",
       "      <td>France</td>\n",
       "      <td>Female</td>\n",
       "      <td>31</td>\n",
       "      <td>NaN</td>\n",
       "      <td>0.00</td>\n",
       "      <td>2</td>\n",
       "      <td>0</td>\n",
       "      <td>0</td>\n",
       "      <td>50404.72</td>\n",
       "      <td>0</td>\n",
       "    </tr>\n",
       "    <tr>\n",
       "      <th>4213</th>\n",
       "      <td>767</td>\n",
       "      <td>France</td>\n",
       "      <td>Female</td>\n",
       "      <td>34</td>\n",
       "      <td>8.0</td>\n",
       "      <td>0.00</td>\n",
       "      <td>2</td>\n",
       "      <td>1</td>\n",
       "      <td>0</td>\n",
       "      <td>94767.77</td>\n",
       "      <td>0</td>\n",
       "    </tr>\n",
       "    <tr>\n",
       "      <th>1673</th>\n",
       "      <td>652</td>\n",
       "      <td>Germany</td>\n",
       "      <td>Female</td>\n",
       "      <td>26</td>\n",
       "      <td>1.0</td>\n",
       "      <td>131908.35</td>\n",
       "      <td>1</td>\n",
       "      <td>1</td>\n",
       "      <td>1</td>\n",
       "      <td>179269.79</td>\n",
       "      <td>0</td>\n",
       "    </tr>\n",
       "  </tbody>\n",
       "</table>\n",
       "</div>"
      ],
      "text/plain": [
       "      creditscore geography  gender  age  tenure    balance  numofproducts  \\\n",
       "6627          558    France  Female   41     6.0       0.00              1   \n",
       "9650          834     Spain    Male   33     5.0       0.00              2   \n",
       "8091          768    France    Male   29     2.0   95984.69              2   \n",
       "9087          714    France    Male   35     3.0       0.00              2   \n",
       "299           627    France    Male   33     5.0       0.00              2   \n",
       "9565          582    France  Female   38     9.0  135979.01              4   \n",
       "8289          682    France    Male   40     NaN       0.00              1   \n",
       "7898          635    France  Female   72     4.0   74812.84              1   \n",
       "2231          746    France    Male   35     2.0  172274.01              1   \n",
       "7352          726    France  Female   38     4.0       0.00              2   \n",
       "5685          705     Spain  Female   47     3.0   63488.70              1   \n",
       "1652          616    France    Male   59     NaN  153861.10              1   \n",
       "6580          527   Germany  Female   30     6.0  126663.51              1   \n",
       "2819          730    France  Female   34     5.0   74197.38              2   \n",
       "9127          630     Spain    Male   39    10.0  105473.74              1   \n",
       "3586          826    France    Male   55     NaN  115285.85              1   \n",
       "2408          653     Spain    Male   55     7.0       0.00              2   \n",
       "323           763    France  Female   31     NaN       0.00              2   \n",
       "4213          767    France  Female   34     8.0       0.00              2   \n",
       "1673          652   Germany  Female   26     1.0  131908.35              1   \n",
       "\n",
       "      hascrcard  isactivemember  estimatedsalary  exited  \n",
       "6627          1               1        143585.29       1  \n",
       "9650          1               0         66285.18       0  \n",
       "8091          1               1         73686.75       0  \n",
       "9087          1               1         95623.28       0  \n",
       "299           1               1        103737.82       0  \n",
       "9565          1               1         76582.95       1  \n",
       "8289          0               1        105352.55       0  \n",
       "7898          0               1         27448.33       0  \n",
       "2231          1               0         22374.97       0  \n",
       "7352          0               0          6787.48       0  \n",
       "5685          0               1         28640.92       1  \n",
       "1652          1               1         17699.48       0  \n",
       "6580          1               1        162267.91       0  \n",
       "2819          1               0         96875.52       0  \n",
       "9127          0               0         58854.88       1  \n",
       "3586          1               0        140126.17       0  \n",
       "2408          1               1         41967.03       0  \n",
       "323           0               0         50404.72       0  \n",
       "4213          1               0         94767.77       0  \n",
       "1673          1               1        179269.79       0  "
      ]
     },
     "execution_count": 18,
     "metadata": {},
     "output_type": "execute_result"
    }
   ],
   "source": [
    "#We sample out any number of the data set.\n",
    "churn_df1.sample(20)"
   ]
  },
  {
   "cell_type": "code",
   "execution_count": 19,
   "id": "cee25034",
   "metadata": {},
   "outputs": [],
   "source": [
    "#we replace the missing values with 0\n",
    "churn_df1['tenure'] = churn_df1['tenure'].replace(np.NaN, 0)"
   ]
  },
  {
   "cell_type": "code",
   "execution_count": 20,
   "id": "7a47379c",
   "metadata": {},
   "outputs": [
    {
     "data": {
      "text/html": [
       "<div>\n",
       "<style scoped>\n",
       "    .dataframe tbody tr th:only-of-type {\n",
       "        vertical-align: middle;\n",
       "    }\n",
       "\n",
       "    .dataframe tbody tr th {\n",
       "        vertical-align: top;\n",
       "    }\n",
       "\n",
       "    .dataframe thead th {\n",
       "        text-align: right;\n",
       "    }\n",
       "</style>\n",
       "<table border=\"1\" class=\"dataframe\">\n",
       "  <thead>\n",
       "    <tr style=\"text-align: right;\">\n",
       "      <th></th>\n",
       "      <th>creditscore</th>\n",
       "      <th>geography</th>\n",
       "      <th>gender</th>\n",
       "      <th>age</th>\n",
       "      <th>tenure</th>\n",
       "      <th>balance</th>\n",
       "      <th>numofproducts</th>\n",
       "      <th>hascrcard</th>\n",
       "      <th>isactivemember</th>\n",
       "      <th>estimatedsalary</th>\n",
       "      <th>exited</th>\n",
       "    </tr>\n",
       "  </thead>\n",
       "  <tbody>\n",
       "    <tr>\n",
       "      <th>7230</th>\n",
       "      <td>670</td>\n",
       "      <td>France</td>\n",
       "      <td>Male</td>\n",
       "      <td>37</td>\n",
       "      <td>2.0</td>\n",
       "      <td>0.00</td>\n",
       "      <td>2</td>\n",
       "      <td>1</td>\n",
       "      <td>1</td>\n",
       "      <td>54229.74</td>\n",
       "      <td>0</td>\n",
       "    </tr>\n",
       "    <tr>\n",
       "      <th>7347</th>\n",
       "      <td>553</td>\n",
       "      <td>Spain</td>\n",
       "      <td>Male</td>\n",
       "      <td>42</td>\n",
       "      <td>7.0</td>\n",
       "      <td>0.00</td>\n",
       "      <td>2</td>\n",
       "      <td>1</td>\n",
       "      <td>0</td>\n",
       "      <td>7680.23</td>\n",
       "      <td>0</td>\n",
       "    </tr>\n",
       "    <tr>\n",
       "      <th>6812</th>\n",
       "      <td>576</td>\n",
       "      <td>Germany</td>\n",
       "      <td>Male</td>\n",
       "      <td>63</td>\n",
       "      <td>3.0</td>\n",
       "      <td>148843.56</td>\n",
       "      <td>1</td>\n",
       "      <td>1</td>\n",
       "      <td>0</td>\n",
       "      <td>69414.13</td>\n",
       "      <td>1</td>\n",
       "    </tr>\n",
       "    <tr>\n",
       "      <th>3439</th>\n",
       "      <td>746</td>\n",
       "      <td>France</td>\n",
       "      <td>Male</td>\n",
       "      <td>36</td>\n",
       "      <td>0.0</td>\n",
       "      <td>142400.77</td>\n",
       "      <td>1</td>\n",
       "      <td>1</td>\n",
       "      <td>1</td>\n",
       "      <td>193438.69</td>\n",
       "      <td>0</td>\n",
       "    </tr>\n",
       "    <tr>\n",
       "      <th>4706</th>\n",
       "      <td>850</td>\n",
       "      <td>France</td>\n",
       "      <td>Male</td>\n",
       "      <td>43</td>\n",
       "      <td>4.0</td>\n",
       "      <td>161256.53</td>\n",
       "      <td>1</td>\n",
       "      <td>1</td>\n",
       "      <td>1</td>\n",
       "      <td>140071.57</td>\n",
       "      <td>0</td>\n",
       "    </tr>\n",
       "    <tr>\n",
       "      <th>5306</th>\n",
       "      <td>605</td>\n",
       "      <td>France</td>\n",
       "      <td>Female</td>\n",
       "      <td>51</td>\n",
       "      <td>9.0</td>\n",
       "      <td>104760.82</td>\n",
       "      <td>1</td>\n",
       "      <td>1</td>\n",
       "      <td>1</td>\n",
       "      <td>165574.54</td>\n",
       "      <td>1</td>\n",
       "    </tr>\n",
       "    <tr>\n",
       "      <th>9833</th>\n",
       "      <td>699</td>\n",
       "      <td>Germany</td>\n",
       "      <td>Female</td>\n",
       "      <td>41</td>\n",
       "      <td>1.0</td>\n",
       "      <td>200117.76</td>\n",
       "      <td>2</td>\n",
       "      <td>1</td>\n",
       "      <td>0</td>\n",
       "      <td>94142.35</td>\n",
       "      <td>0</td>\n",
       "    </tr>\n",
       "    <tr>\n",
       "      <th>525</th>\n",
       "      <td>776</td>\n",
       "      <td>France</td>\n",
       "      <td>Female</td>\n",
       "      <td>31</td>\n",
       "      <td>2.0</td>\n",
       "      <td>0.00</td>\n",
       "      <td>2</td>\n",
       "      <td>1</td>\n",
       "      <td>1</td>\n",
       "      <td>112349.51</td>\n",
       "      <td>0</td>\n",
       "    </tr>\n",
       "    <tr>\n",
       "      <th>7774</th>\n",
       "      <td>850</td>\n",
       "      <td>Germany</td>\n",
       "      <td>Male</td>\n",
       "      <td>43</td>\n",
       "      <td>5.0</td>\n",
       "      <td>129305.09</td>\n",
       "      <td>2</td>\n",
       "      <td>0</td>\n",
       "      <td>1</td>\n",
       "      <td>19244.58</td>\n",
       "      <td>0</td>\n",
       "    </tr>\n",
       "    <tr>\n",
       "      <th>1608</th>\n",
       "      <td>574</td>\n",
       "      <td>France</td>\n",
       "      <td>Female</td>\n",
       "      <td>39</td>\n",
       "      <td>0.0</td>\n",
       "      <td>122524.61</td>\n",
       "      <td>2</td>\n",
       "      <td>1</td>\n",
       "      <td>0</td>\n",
       "      <td>88463.63</td>\n",
       "      <td>0</td>\n",
       "    </tr>\n",
       "    <tr>\n",
       "      <th>8830</th>\n",
       "      <td>562</td>\n",
       "      <td>Germany</td>\n",
       "      <td>Female</td>\n",
       "      <td>39</td>\n",
       "      <td>6.0</td>\n",
       "      <td>130565.02</td>\n",
       "      <td>1</td>\n",
       "      <td>1</td>\n",
       "      <td>0</td>\n",
       "      <td>9854.72</td>\n",
       "      <td>1</td>\n",
       "    </tr>\n",
       "    <tr>\n",
       "      <th>7571</th>\n",
       "      <td>718</td>\n",
       "      <td>France</td>\n",
       "      <td>Male</td>\n",
       "      <td>52</td>\n",
       "      <td>8.0</td>\n",
       "      <td>79475.30</td>\n",
       "      <td>3</td>\n",
       "      <td>1</td>\n",
       "      <td>1</td>\n",
       "      <td>32421.32</td>\n",
       "      <td>1</td>\n",
       "    </tr>\n",
       "    <tr>\n",
       "      <th>7600</th>\n",
       "      <td>683</td>\n",
       "      <td>Spain</td>\n",
       "      <td>Male</td>\n",
       "      <td>30</td>\n",
       "      <td>1.0</td>\n",
       "      <td>113257.20</td>\n",
       "      <td>1</td>\n",
       "      <td>1</td>\n",
       "      <td>1</td>\n",
       "      <td>65035.02</td>\n",
       "      <td>0</td>\n",
       "    </tr>\n",
       "    <tr>\n",
       "      <th>9223</th>\n",
       "      <td>543</td>\n",
       "      <td>France</td>\n",
       "      <td>Female</td>\n",
       "      <td>67</td>\n",
       "      <td>0.0</td>\n",
       "      <td>128843.67</td>\n",
       "      <td>1</td>\n",
       "      <td>1</td>\n",
       "      <td>1</td>\n",
       "      <td>134612.48</td>\n",
       "      <td>0</td>\n",
       "    </tr>\n",
       "    <tr>\n",
       "      <th>5077</th>\n",
       "      <td>616</td>\n",
       "      <td>France</td>\n",
       "      <td>Male</td>\n",
       "      <td>34</td>\n",
       "      <td>10.0</td>\n",
       "      <td>0.00</td>\n",
       "      <td>2</td>\n",
       "      <td>1</td>\n",
       "      <td>0</td>\n",
       "      <td>25662.27</td>\n",
       "      <td>0</td>\n",
       "    </tr>\n",
       "    <tr>\n",
       "      <th>5648</th>\n",
       "      <td>525</td>\n",
       "      <td>France</td>\n",
       "      <td>Male</td>\n",
       "      <td>35</td>\n",
       "      <td>7.0</td>\n",
       "      <td>165358.77</td>\n",
       "      <td>1</td>\n",
       "      <td>0</td>\n",
       "      <td>1</td>\n",
       "      <td>94738.54</td>\n",
       "      <td>0</td>\n",
       "    </tr>\n",
       "    <tr>\n",
       "      <th>7492</th>\n",
       "      <td>682</td>\n",
       "      <td>France</td>\n",
       "      <td>Male</td>\n",
       "      <td>28</td>\n",
       "      <td>10.0</td>\n",
       "      <td>200724.96</td>\n",
       "      <td>1</td>\n",
       "      <td>0</td>\n",
       "      <td>1</td>\n",
       "      <td>82872.64</td>\n",
       "      <td>1</td>\n",
       "    </tr>\n",
       "    <tr>\n",
       "      <th>294</th>\n",
       "      <td>681</td>\n",
       "      <td>France</td>\n",
       "      <td>Male</td>\n",
       "      <td>38</td>\n",
       "      <td>3.0</td>\n",
       "      <td>0.00</td>\n",
       "      <td>2</td>\n",
       "      <td>1</td>\n",
       "      <td>1</td>\n",
       "      <td>112491.96</td>\n",
       "      <td>0</td>\n",
       "    </tr>\n",
       "    <tr>\n",
       "      <th>8574</th>\n",
       "      <td>717</td>\n",
       "      <td>France</td>\n",
       "      <td>Female</td>\n",
       "      <td>59</td>\n",
       "      <td>4.0</td>\n",
       "      <td>0.00</td>\n",
       "      <td>2</td>\n",
       "      <td>1</td>\n",
       "      <td>1</td>\n",
       "      <td>170528.63</td>\n",
       "      <td>0</td>\n",
       "    </tr>\n",
       "    <tr>\n",
       "      <th>9675</th>\n",
       "      <td>735</td>\n",
       "      <td>Spain</td>\n",
       "      <td>Male</td>\n",
       "      <td>39</td>\n",
       "      <td>1.0</td>\n",
       "      <td>60374.98</td>\n",
       "      <td>1</td>\n",
       "      <td>1</td>\n",
       "      <td>0</td>\n",
       "      <td>40223.74</td>\n",
       "      <td>0</td>\n",
       "    </tr>\n",
       "  </tbody>\n",
       "</table>\n",
       "</div>"
      ],
      "text/plain": [
       "      creditscore geography  gender  age  tenure    balance  numofproducts  \\\n",
       "7230          670    France    Male   37     2.0       0.00              2   \n",
       "7347          553     Spain    Male   42     7.0       0.00              2   \n",
       "6812          576   Germany    Male   63     3.0  148843.56              1   \n",
       "3439          746    France    Male   36     0.0  142400.77              1   \n",
       "4706          850    France    Male   43     4.0  161256.53              1   \n",
       "5306          605    France  Female   51     9.0  104760.82              1   \n",
       "9833          699   Germany  Female   41     1.0  200117.76              2   \n",
       "525           776    France  Female   31     2.0       0.00              2   \n",
       "7774          850   Germany    Male   43     5.0  129305.09              2   \n",
       "1608          574    France  Female   39     0.0  122524.61              2   \n",
       "8830          562   Germany  Female   39     6.0  130565.02              1   \n",
       "7571          718    France    Male   52     8.0   79475.30              3   \n",
       "7600          683     Spain    Male   30     1.0  113257.20              1   \n",
       "9223          543    France  Female   67     0.0  128843.67              1   \n",
       "5077          616    France    Male   34    10.0       0.00              2   \n",
       "5648          525    France    Male   35     7.0  165358.77              1   \n",
       "7492          682    France    Male   28    10.0  200724.96              1   \n",
       "294           681    France    Male   38     3.0       0.00              2   \n",
       "8574          717    France  Female   59     4.0       0.00              2   \n",
       "9675          735     Spain    Male   39     1.0   60374.98              1   \n",
       "\n",
       "      hascrcard  isactivemember  estimatedsalary  exited  \n",
       "7230          1               1         54229.74       0  \n",
       "7347          1               0          7680.23       0  \n",
       "6812          1               0         69414.13       1  \n",
       "3439          1               1        193438.69       0  \n",
       "4706          1               1        140071.57       0  \n",
       "5306          1               1        165574.54       1  \n",
       "9833          1               0         94142.35       0  \n",
       "525           1               1        112349.51       0  \n",
       "7774          0               1         19244.58       0  \n",
       "1608          1               0         88463.63       0  \n",
       "8830          1               0          9854.72       1  \n",
       "7571          1               1         32421.32       1  \n",
       "7600          1               1         65035.02       0  \n",
       "9223          1               1        134612.48       0  \n",
       "5077          1               0         25662.27       0  \n",
       "5648          0               1         94738.54       0  \n",
       "7492          0               1         82872.64       1  \n",
       "294           1               1        112491.96       0  \n",
       "8574          1               1        170528.63       0  \n",
       "9675          1               0         40223.74       0  "
      ]
     },
     "execution_count": 20,
     "metadata": {},
     "output_type": "execute_result"
    }
   ],
   "source": [
    "#We sample out any number of the data set.\n",
    "churn_df1.sample(20)"
   ]
  },
  {
   "cell_type": "code",
   "execution_count": 21,
   "id": "46c491a2",
   "metadata": {},
   "outputs": [
    {
     "data": {
      "text/plain": [
       "creditscore        0\n",
       "geography          0\n",
       "gender             0\n",
       "age                0\n",
       "tenure             0\n",
       "balance            0\n",
       "numofproducts      0\n",
       "hascrcard          0\n",
       "isactivemember     0\n",
       "estimatedsalary    0\n",
       "exited             0\n",
       "dtype: int64"
      ]
     },
     "execution_count": 21,
     "metadata": {},
     "output_type": "execute_result"
    }
   ],
   "source": [
    "churn_df1.isnull().sum()"
   ]
  },
  {
   "cell_type": "markdown",
   "id": "97afc32a",
   "metadata": {},
   "source": [
    "- The dataset is clean and standardized."
   ]
  },
  {
   "cell_type": "code",
   "execution_count": 22,
   "id": "f417b68f",
   "metadata": {},
   "outputs": [
    {
     "data": {
      "text/html": [
       "<div>\n",
       "<style scoped>\n",
       "    .dataframe tbody tr th:only-of-type {\n",
       "        vertical-align: middle;\n",
       "    }\n",
       "\n",
       "    .dataframe tbody tr th {\n",
       "        vertical-align: top;\n",
       "    }\n",
       "\n",
       "    .dataframe thead th {\n",
       "        text-align: right;\n",
       "    }\n",
       "</style>\n",
       "<table border=\"1\" class=\"dataframe\">\n",
       "  <thead>\n",
       "    <tr style=\"text-align: right;\">\n",
       "      <th></th>\n",
       "      <th>count</th>\n",
       "      <th>mean</th>\n",
       "      <th>std</th>\n",
       "      <th>min</th>\n",
       "      <th>25%</th>\n",
       "      <th>50%</th>\n",
       "      <th>75%</th>\n",
       "      <th>max</th>\n",
       "    </tr>\n",
       "  </thead>\n",
       "  <tbody>\n",
       "    <tr>\n",
       "      <th>creditscore</th>\n",
       "      <td>10000.0</td>\n",
       "      <td>650.528800</td>\n",
       "      <td>96.653299</td>\n",
       "      <td>350.00</td>\n",
       "      <td>584.00</td>\n",
       "      <td>652.000</td>\n",
       "      <td>718.0000</td>\n",
       "      <td>850.00</td>\n",
       "    </tr>\n",
       "    <tr>\n",
       "      <th>age</th>\n",
       "      <td>10000.0</td>\n",
       "      <td>38.921800</td>\n",
       "      <td>10.487806</td>\n",
       "      <td>18.00</td>\n",
       "      <td>32.00</td>\n",
       "      <td>37.000</td>\n",
       "      <td>44.0000</td>\n",
       "      <td>92.00</td>\n",
       "    </tr>\n",
       "    <tr>\n",
       "      <th>tenure</th>\n",
       "      <td>10000.0</td>\n",
       "      <td>4.543400</td>\n",
       "      <td>3.111573</td>\n",
       "      <td>0.00</td>\n",
       "      <td>2.00</td>\n",
       "      <td>4.000</td>\n",
       "      <td>7.0000</td>\n",
       "      <td>10.00</td>\n",
       "    </tr>\n",
       "    <tr>\n",
       "      <th>balance</th>\n",
       "      <td>10000.0</td>\n",
       "      <td>76485.889288</td>\n",
       "      <td>62397.405202</td>\n",
       "      <td>0.00</td>\n",
       "      <td>0.00</td>\n",
       "      <td>97198.540</td>\n",
       "      <td>127644.2400</td>\n",
       "      <td>250898.09</td>\n",
       "    </tr>\n",
       "    <tr>\n",
       "      <th>numofproducts</th>\n",
       "      <td>10000.0</td>\n",
       "      <td>1.530200</td>\n",
       "      <td>0.581654</td>\n",
       "      <td>1.00</td>\n",
       "      <td>1.00</td>\n",
       "      <td>1.000</td>\n",
       "      <td>2.0000</td>\n",
       "      <td>4.00</td>\n",
       "    </tr>\n",
       "    <tr>\n",
       "      <th>hascrcard</th>\n",
       "      <td>10000.0</td>\n",
       "      <td>0.705500</td>\n",
       "      <td>0.455840</td>\n",
       "      <td>0.00</td>\n",
       "      <td>0.00</td>\n",
       "      <td>1.000</td>\n",
       "      <td>1.0000</td>\n",
       "      <td>1.00</td>\n",
       "    </tr>\n",
       "    <tr>\n",
       "      <th>isactivemember</th>\n",
       "      <td>10000.0</td>\n",
       "      <td>0.515100</td>\n",
       "      <td>0.499797</td>\n",
       "      <td>0.00</td>\n",
       "      <td>0.00</td>\n",
       "      <td>1.000</td>\n",
       "      <td>1.0000</td>\n",
       "      <td>1.00</td>\n",
       "    </tr>\n",
       "    <tr>\n",
       "      <th>estimatedsalary</th>\n",
       "      <td>10000.0</td>\n",
       "      <td>100090.239881</td>\n",
       "      <td>57510.492818</td>\n",
       "      <td>11.58</td>\n",
       "      <td>51002.11</td>\n",
       "      <td>100193.915</td>\n",
       "      <td>149388.2475</td>\n",
       "      <td>199992.48</td>\n",
       "    </tr>\n",
       "    <tr>\n",
       "      <th>exited</th>\n",
       "      <td>10000.0</td>\n",
       "      <td>0.203700</td>\n",
       "      <td>0.402769</td>\n",
       "      <td>0.00</td>\n",
       "      <td>0.00</td>\n",
       "      <td>0.000</td>\n",
       "      <td>0.0000</td>\n",
       "      <td>1.00</td>\n",
       "    </tr>\n",
       "  </tbody>\n",
       "</table>\n",
       "</div>"
      ],
      "text/plain": [
       "                   count           mean           std     min       25%  \\\n",
       "creditscore      10000.0     650.528800     96.653299  350.00    584.00   \n",
       "age              10000.0      38.921800     10.487806   18.00     32.00   \n",
       "tenure           10000.0       4.543400      3.111573    0.00      2.00   \n",
       "balance          10000.0   76485.889288  62397.405202    0.00      0.00   \n",
       "numofproducts    10000.0       1.530200      0.581654    1.00      1.00   \n",
       "hascrcard        10000.0       0.705500      0.455840    0.00      0.00   \n",
       "isactivemember   10000.0       0.515100      0.499797    0.00      0.00   \n",
       "estimatedsalary  10000.0  100090.239881  57510.492818   11.58  51002.11   \n",
       "exited           10000.0       0.203700      0.402769    0.00      0.00   \n",
       "\n",
       "                        50%          75%        max  \n",
       "creditscore         652.000     718.0000     850.00  \n",
       "age                  37.000      44.0000      92.00  \n",
       "tenure                4.000       7.0000      10.00  \n",
       "balance           97198.540  127644.2400  250898.09  \n",
       "numofproducts         1.000       2.0000       4.00  \n",
       "hascrcard             1.000       1.0000       1.00  \n",
       "isactivemember        1.000       1.0000       1.00  \n",
       "estimatedsalary  100193.915  149388.2475  199992.48  \n",
       "exited                0.000       0.0000       1.00  "
      ]
     },
     "execution_count": 22,
     "metadata": {},
     "output_type": "execute_result"
    }
   ],
   "source": [
    "#Describe the statistical elements of the dataset\n",
    "churn_df1.describe().T#.T"
   ]
  },
  {
   "cell_type": "markdown",
   "id": "0405a925",
   "metadata": {},
   "source": [
    "**Observation**\n",
    "\n",
    "The above returns important descriptive statistical summaries for only numerical columns, excluding NaN values (if available)"
   ]
  },
  {
   "cell_type": "markdown",
   "id": "37e70a22",
   "metadata": {},
   "source": [
    "#### Exploratory Data Analysis"
   ]
  },
  {
   "cell_type": "markdown",
   "id": "d8cfbdab",
   "metadata": {},
   "source": [
    "- Here our main interest is to get an understanding as to how the given attributes relate too the 'Exit' status."
   ]
  },
  {
   "cell_type": "code",
   "execution_count": 23,
   "id": "585a83b3",
   "metadata": {},
   "outputs": [
    {
     "data": {
      "image/png": "[encoded data removed]",
      "text/plain": [
       "<Figure size 720x576 with 1 Axes>"
      ]
     },
     "metadata": {},
     "output_type": "display_data"
    }
   ],
   "source": [
    "labels = 'Exited', 'Retained'\n",
    "sizes = [churn_df1.exited[churn_df1['exited']==1].count(), churn_df1.exited[churn_df1['exited']==0].count()]\n",
    "explode = (0, 0.1)\n",
    "fig1, ax1 = plt.subplots(figsize=(10, 8))\n",
    "ax1.pie(sizes, explode=explode, labels=labels, autopct='%1.1f%%',\n",
    "        shadow=True, startangle=90)\n",
    "ax1.axis('equal')\n",
    "plt.title(\"Proportion of customer churned and retained\", size = 20)\n",
    "plt.show()"
   ]
  },
  {
   "cell_type": "markdown",
   "id": "5dd3cb05",
   "metadata": {},
   "source": [
    "- So about 20% of the customers have churned. So the baseline model could be to predict that 20% of the customers will churn. Given 20% is a small number, we need to ensure that the chosen model does predict with great accuracy this 20% as it is of interest to the bank to identify and keep this bunch as opposed to accurately predicting the customers that are retained."
   ]
  },
  {
   "cell_type": "code",
   "execution_count": 24,
   "id": "89370aa9",
   "metadata": {},
   "outputs": [
    {
     "data": {
      "text/plain": [
       "<AxesSubplot:xlabel='isactivemember', ylabel='count'>"
      ]
     },
     "execution_count": 24,
     "metadata": {},
     "output_type": "execute_result"
    },
    {
     "data": {
      "image/png": "[encoded data removed]",
      "text/plain": [
       "<Figure size 1440x864 with 4 Axes>"
      ]
     },
     "metadata": {
      "needs_background": "light"
     },
     "output_type": "display_data"
    }
   ],
   "source": [
    "    #We first review the 'Status' relation with categorical variables\n",
    "    fig, axarr = plt.subplots(2, 2, figsize=(20, 12))\n",
    "    sns.countplot(x='geography', hue = 'exited',data = churn_df1, ax=axarr[0][0])\n",
    "    sns.countplot(x='gender', hue = 'exited',data = churn_df1, ax=axarr[0][1])\n",
    "    sns.countplot(x='hascrcard', hue = 'exited',data = churn_df1, ax=axarr[1][0])\n",
    "    sns.countplot(x='isactivemember', hue = 'exited',data = churn_df1, ax=axarr[1][1])"
   ]
  },
  {
   "cell_type": "markdown",
   "id": "efbc0805",
   "metadata": {},
   "source": [
    "- Majority of the data is from persons from France. However, the proportion of churned customers is with inversely related to the population of customers alluding to the bank possibly having a problem (maybe not enough customer service resources allocated) in the areas where it has fewer clients.\n",
    "- The proportion of female customers churning is also greater than that of male customers\n",
    "- Interestingly, majority of the customers that churned are those with credit cards. Given that majority of the customers have credit cards could prove this to be just a coincidence.\n",
    "- Unsurprisingly the inactive members have a greater churn. Worryingly is that the overall proportion of inactive mebers is quite high suggesting that the bank may need a program implemented to turn this group to active customers as this will definately have a positive impact on the customer churn."
   ]
  },
  {
   "cell_type": "code",
   "execution_count": 25,
   "id": "83203cb9",
   "metadata": {},
   "outputs": [
    {
     "data": {
      "text/plain": [
       "(array([0.5, 1.5, 2.5, 3.5, 4.5, 5.5, 6.5, 7.5, 8.5]),\n",
       " [Text(0.5, 0, 'creditscore'),\n",
       "  Text(1.5, 0, 'age'),\n",
       "  Text(2.5, 0, 'tenure'),\n",
       "  Text(3.5, 0, 'balance'),\n",
       "  Text(4.5, 0, 'numofproducts'),\n",
       "  Text(5.5, 0, 'hascrcard'),\n",
       "  Text(6.5, 0, 'isactivemember'),\n",
       "  Text(7.5, 0, 'estimatedsalary'),\n",
       "  Text(8.5, 0, 'exited')])"
      ]
     },
     "execution_count": 25,
     "metadata": {},
     "output_type": "execute_result"
    },
    {
     "data": {
      "image/png": "[encoded data removed]",
      "text/plain": [
       "<Figure size 864x576 with 2 Axes>"
      ]
     },
     "metadata": {
      "needs_background": "light"
     },
     "output_type": "display_data"
    }
   ],
   "source": [
    "#We need to understand the correlations between variables\n",
    "correlations=churn_df1.corr()\n",
    "plt.figure(figsize=(12,8))\n",
    "sns.heatmap(data=correlations,square=True,annot = True,cmap=\"bwr\")\n",
    "\n",
    "plt.yticks(rotation=0)\n",
    "plt.xticks(rotation=90)"
   ]
  },
  {
   "cell_type": "markdown",
   "id": "67674f84",
   "metadata": {},
   "source": [
    "**Geographical Segmentation & Churn**\n",
    "\n",
    "- Which country had the highest churn rate?  ⟹ To find the impact of geography on customer churn, we can plot the count of values from the Exited column against a customer’s geography:"
   ]
  },
  {
   "cell_type": "code",
   "execution_count": 26,
   "id": "c7ccc2f7",
   "metadata": {},
   "outputs": [
    {
     "data": {
      "text/plain": [
       "<AxesSubplot:xlabel='geography', ylabel='count'>"
      ]
     },
     "execution_count": 26,
     "metadata": {},
     "output_type": "execute_result"
    },
    {
     "data": {
      "image/png": "[encoded data removed]",
      "text/plain": [
       "<Figure size 864x648 with 2 Axes>"
      ]
     },
     "metadata": {
      "needs_background": "light"
     },
     "output_type": "display_data"
    }
   ],
   "source": [
    "plt.figure(figsize=(12,9))\n",
    "plt.suptitle(\"Geography & Churn Analysis\", size = 25, fontname = \"Times New Roman\", color = \"m\")\n",
    "\n",
    "# First Plot\n",
    "plt.subplot(2, 2, 1)\n",
    "sns.countplot(x='exited', hue='geography', data=churn_df1, palette=\"gnuplot\")\n",
    "\n",
    "# 2nd Plot\n",
    "plt.subplot(2, 2, 2)\n",
    "sns.countplot(x='geography', hue='exited', data=churn_df1, palette=\"rainbow_r\")"
   ]
  },
  {
   "cell_type": "markdown",
   "id": "db71e38b",
   "metadata": {},
   "source": [
    "***Observations***\n",
    "\n",
    "- We see that the bank lost more customers in Germany than elsewhere among the 3 involved nations, despite 50% of the customers hailing from France, and Germany housing the least number of customers.\n",
    " - That is to say, Germany has the least amount of customers for this bank, but more customers left the bank.\n",
    "- Perhaps the bank is not performing so well in Germany that it continues to lose customers.\n",
    "- We can also assume this is a French bank, and that customers are sticking with the local banks and are also defecting to local banks in Germany.The output shows that among the customers who left the bank, French and German customers have an equal number despite the fact that the total German customers are almost half of the total French customers.\n",
    "- It shows that German customers are more likely to leave the bank than French and Spanish customers."
   ]
  },
  {
   "cell_type": "code",
   "execution_count": 27,
   "id": "6c109f04",
   "metadata": {},
   "outputs": [],
   "source": [
    "###Numerical Data for Model\n",
    "churn_df2=churn_df1[['creditscore','age','tenure','balance','numofproducts','hascrcard','isactivemember','estimatedsalary','exited']]"
   ]
  },
  {
   "cell_type": "code",
   "execution_count": 28,
   "id": "d32b1908",
   "metadata": {},
   "outputs": [
    {
     "data": {
      "text/html": [
       "<div>\n",
       "<style scoped>\n",
       "    .dataframe tbody tr th:only-of-type {\n",
       "        vertical-align: middle;\n",
       "    }\n",
       "\n",
       "    .dataframe tbody tr th {\n",
       "        vertical-align: top;\n",
       "    }\n",
       "\n",
       "    .dataframe thead th {\n",
       "        text-align: right;\n",
       "    }\n",
       "</style>\n",
       "<table border=\"1\" class=\"dataframe\">\n",
       "  <thead>\n",
       "    <tr style=\"text-align: right;\">\n",
       "      <th></th>\n",
       "      <th>creditscore</th>\n",
       "      <th>age</th>\n",
       "      <th>tenure</th>\n",
       "      <th>balance</th>\n",
       "      <th>numofproducts</th>\n",
       "      <th>hascrcard</th>\n",
       "      <th>isactivemember</th>\n",
       "      <th>estimatedsalary</th>\n",
       "      <th>exited</th>\n",
       "    </tr>\n",
       "  </thead>\n",
       "  <tbody>\n",
       "    <tr>\n",
       "      <th>0</th>\n",
       "      <td>619</td>\n",
       "      <td>42</td>\n",
       "      <td>2.0</td>\n",
       "      <td>0.00</td>\n",
       "      <td>1</td>\n",
       "      <td>1</td>\n",
       "      <td>1</td>\n",
       "      <td>101348.88</td>\n",
       "      <td>1</td>\n",
       "    </tr>\n",
       "    <tr>\n",
       "      <th>1</th>\n",
       "      <td>608</td>\n",
       "      <td>41</td>\n",
       "      <td>1.0</td>\n",
       "      <td>83807.86</td>\n",
       "      <td>1</td>\n",
       "      <td>0</td>\n",
       "      <td>1</td>\n",
       "      <td>112542.58</td>\n",
       "      <td>0</td>\n",
       "    </tr>\n",
       "    <tr>\n",
       "      <th>2</th>\n",
       "      <td>502</td>\n",
       "      <td>42</td>\n",
       "      <td>8.0</td>\n",
       "      <td>159660.80</td>\n",
       "      <td>3</td>\n",
       "      <td>1</td>\n",
       "      <td>0</td>\n",
       "      <td>113931.57</td>\n",
       "      <td>1</td>\n",
       "    </tr>\n",
       "    <tr>\n",
       "      <th>3</th>\n",
       "      <td>699</td>\n",
       "      <td>39</td>\n",
       "      <td>1.0</td>\n",
       "      <td>0.00</td>\n",
       "      <td>2</td>\n",
       "      <td>0</td>\n",
       "      <td>0</td>\n",
       "      <td>93826.63</td>\n",
       "      <td>0</td>\n",
       "    </tr>\n",
       "    <tr>\n",
       "      <th>4</th>\n",
       "      <td>850</td>\n",
       "      <td>43</td>\n",
       "      <td>2.0</td>\n",
       "      <td>125510.82</td>\n",
       "      <td>1</td>\n",
       "      <td>1</td>\n",
       "      <td>1</td>\n",
       "      <td>79084.10</td>\n",
       "      <td>0</td>\n",
       "    </tr>\n",
       "  </tbody>\n",
       "</table>\n",
       "</div>"
      ],
      "text/plain": [
       "   creditscore  age  tenure    balance  numofproducts  hascrcard  \\\n",
       "0          619   42     2.0       0.00              1          1   \n",
       "1          608   41     1.0   83807.86              1          0   \n",
       "2          502   42     8.0  159660.80              3          1   \n",
       "3          699   39     1.0       0.00              2          0   \n",
       "4          850   43     2.0  125510.82              1          1   \n",
       "\n",
       "   isactivemember  estimatedsalary  exited  \n",
       "0               1        101348.88       1  \n",
       "1               1        112542.58       0  \n",
       "2               0        113931.57       1  \n",
       "3               0         93826.63       0  \n",
       "4               1         79084.10       0  "
      ]
     },
     "execution_count": 28,
     "metadata": {},
     "output_type": "execute_result"
    }
   ],
   "source": [
    "churn_df2.head()"
   ]
  },
  {
   "cell_type": "code",
   "execution_count": 29,
   "id": "39098d3f",
   "metadata": {},
   "outputs": [
    {
     "name": "stdout",
     "output_type": "stream",
     "text": [
      "(10000, 8)\n",
      "(10000,)\n"
     ]
    }
   ],
   "source": [
    "X=churn_df2.drop('exited',axis=1)\n",
    "y=churn_df2['exited']\n",
    "\n",
    "print(X.shape)\n",
    "print(y.shape)"
   ]
  },
  {
   "cell_type": "markdown",
   "id": "fbc7c485",
   "metadata": {},
   "source": [
    "### 6. Splitting the Dataset\n",
    "We split the dataset into two training dataset and test dataset by using the 80% and 30% rule respectively."
   ]
  },
  {
   "cell_type": "code",
   "execution_count": 30,
   "id": "11b9e6b0",
   "metadata": {},
   "outputs": [],
   "source": [
    "from sklearn.model_selection import train_test_split\n",
    "X_train,X_test,y_train,y_test=train_test_split(X,y,test_size=0.3,random_state=21)"
   ]
  },
  {
   "cell_type": "markdown",
   "id": "1309612c",
   "metadata": {},
   "source": [
    "### 7.Building a logistic regression model"
   ]
  },
  {
   "cell_type": "code",
   "execution_count": 31,
   "id": "b508d46e",
   "metadata": {},
   "outputs": [],
   "source": [
    "from sklearn.linear_model import LogisticRegression\n",
    "logreg=LogisticRegression()"
   ]
  },
  {
   "cell_type": "code",
   "execution_count": 32,
   "id": "09359e2a",
   "metadata": {},
   "outputs": [
    {
     "data": {
      "text/plain": [
       "LogisticRegression()"
      ]
     },
     "execution_count": 32,
     "metadata": {},
     "output_type": "execute_result"
    }
   ],
   "source": [
    "logreg.fit(X_train,y_train)"
   ]
  },
  {
   "cell_type": "code",
   "execution_count": 33,
   "id": "f3773bd8",
   "metadata": {},
   "outputs": [],
   "source": [
    "y_log_pred=logreg.predict(X_test)"
   ]
  },
  {
   "cell_type": "code",
   "execution_count": 34,
   "id": "85e01627",
   "metadata": {},
   "outputs": [
    {
     "name": "stdout",
     "output_type": "stream",
     "text": [
      "Accuracy Score\n",
      "0.7846666666666666\n"
     ]
    }
   ],
   "source": [
    "from sklearn import metrics\n",
    "from sklearn.metrics import classification_report,confusion_matrix\n",
    "print('Accuracy Score')\n",
    "print(metrics.accuracy_score(y_test,y_log_pred))"
   ]
  },
  {
   "cell_type": "markdown",
   "id": "0ca35b2b",
   "metadata": {},
   "source": [
    "#### Confussion Matrix"
   ]
  },
  {
   "cell_type": "code",
   "execution_count": 35,
   "id": "4344f901",
   "metadata": {},
   "outputs": [
    {
     "name": "stdout",
     "output_type": "stream",
     "text": [
      "[[2317   76]\n",
      " [ 570   37]]\n"
     ]
    }
   ],
   "source": [
    "from sklearn.metrics import classification_report,confusion_matrix\n",
    "print(confusion_matrix(y_test,y_log_pred))"
   ]
  },
  {
   "cell_type": "code",
   "execution_count": 36,
   "id": "0a683253",
   "metadata": {},
   "outputs": [
    {
     "name": "stdout",
     "output_type": "stream",
     "text": [
      "              precision    recall  f1-score   support\n",
      "\n",
      "           0       0.80      0.97      0.88      2393\n",
      "           1       0.33      0.06      0.10       607\n",
      "\n",
      "    accuracy                           0.78      3000\n",
      "   macro avg       0.56      0.51      0.49      3000\n",
      "weighted avg       0.71      0.78      0.72      3000\n",
      "\n"
     ]
    }
   ],
   "source": [
    "print(classification_report(y_test,y_log_pred))"
   ]
  },
  {
   "cell_type": "markdown",
   "id": "733194a7",
   "metadata": {},
   "source": [
    "#### Checking the performance of our model by using ROC_Receiver Operating Characteristic Curve"
   ]
  },
  {
   "cell_type": "code",
   "execution_count": 37,
   "id": "b51c0297",
   "metadata": {},
   "outputs": [
    {
     "data": {
      "image/png": "[encoded data removed]",
      "text/plain": [
       "<Figure size 432x288 with 1 Axes>"
      ]
     },
     "metadata": {
      "needs_background": "light"
     },
     "output_type": "display_data"
    }
   ],
   "source": [
    "#Examining the AUC_ROC\n",
    "from sklearn.metrics import roc_auc_score\n",
    "from sklearn.metrics import roc_curve\n",
    "logit_roc_auc = roc_auc_score(y_test, logreg.predict(X_test))\n",
    "fpr, tpr, thresholds = roc_curve(y_test, logreg.predict_proba(X_test)[:,1])\n",
    "plt.figure()\n",
    "plt.plot(fpr, tpr, label='Logistic Regression (area = %0.2f)' % logit_roc_auc)\n",
    "plt.plot([0, 1], [0, 1],'r--')\n",
    "plt.xlim([0.0, 1.0])\n",
    "plt.ylim([0.0, 1.05])\n",
    "plt.xlabel('False Positive Rate')\n",
    "plt.ylabel('True Positive Rate')\n",
    "plt.title('Receiver operating characteristic')\n",
    "plt.legend(loc=\"lower right\")\n",
    "plt.savefig('Log_ROC')\n",
    "plt.show()"
   ]
  },
  {
   "cell_type": "code",
   "execution_count": 38,
   "id": "d1298b2e",
   "metadata": {},
   "outputs": [
    {
     "data": {
      "text/plain": [
       "0.5145981104966366"
      ]
     },
     "execution_count": 38,
     "metadata": {},
     "output_type": "execute_result"
    }
   ],
   "source": [
    "#ROC_Accuracy_Score\n",
    "from sklearn.metrics import roc_auc_score\n",
    "roc_auc_score(y_test,y_log_pred)"
   ]
  },
  {
   "cell_type": "markdown",
   "id": "5a19899d",
   "metadata": {},
   "source": [
    "### Decision Tree Model"
   ]
  },
  {
   "cell_type": "code",
   "execution_count": 39,
   "id": "9ad38544",
   "metadata": {},
   "outputs": [
    {
     "data": {
      "text/plain": [
       "DecisionTreeClassifier()"
      ]
     },
     "execution_count": 39,
     "metadata": {},
     "output_type": "execute_result"
    }
   ],
   "source": [
    "#we import the dtree classifier\n",
    "from sklearn.tree import DecisionTreeClassifier\n",
    "churndtree = DecisionTreeClassifier()\n",
    "churndtree"
   ]
  },
  {
   "cell_type": "code",
   "execution_count": 40,
   "id": "519f49d8",
   "metadata": {},
   "outputs": [
    {
     "data": {
      "text/plain": [
       "DecisionTreeClassifier()"
      ]
     },
     "execution_count": 40,
     "metadata": {},
     "output_type": "execute_result"
    }
   ],
   "source": [
    "churndtree.fit(X_train,y_train)  "
   ]
  },
  {
   "cell_type": "code",
   "execution_count": 41,
   "id": "5c806770",
   "metadata": {},
   "outputs": [],
   "source": [
    "y_predict = churndtree.predict(X_test)"
   ]
  },
  {
   "cell_type": "code",
   "execution_count": 42,
   "id": "c4a096a3",
   "metadata": {},
   "outputs": [
    {
     "name": "stdout",
     "output_type": "stream",
     "text": [
      "DecisionTrees's Accuracy on Train set:  1.0\n",
      "DecisionTrees's Accuracy on Test set :  0.7783333333333333\n"
     ]
    }
   ],
   "source": [
    "from sklearn import metrics\n",
    "print(\"DecisionTrees's Accuracy on Train set: \", metrics.accuracy_score(y_train, churndtree.predict(X_train)))\n",
    "print(\"DecisionTrees's Accuracy on Test set : \", metrics.accuracy_score(y_test, y_predict))"
   ]
  },
  {
   "cell_type": "code",
   "execution_count": 43,
   "id": "cef8a0e1",
   "metadata": {},
   "outputs": [
    {
     "data": {
      "text/plain": [
       "84.06666666666666"
      ]
     },
     "execution_count": 43,
     "metadata": {},
     "output_type": "execute_result"
    }
   ],
   "source": [
    "#We now fit the model to determine the accuracy using Decision Trees\n",
    "from sklearn.tree import DecisionTreeClassifier\n",
    "from sklearn.metrics import accuracy_score\n",
    "from sklearn import tree\n",
    "clf_gini=DecisionTreeClassifier(criterion=\"gini\", random_state=100,max_depth=3, min_samples_leaf=5)\n",
    "clf_gini.fit(X_train, y_train)\n",
    "Y_pred=clf_gini.predict(X_test)\n",
    "from sklearn import metrics\n",
    "metrics.accuracy_score(y_test,Y_pred)*100 "
   ]
  },
  {
   "cell_type": "code",
   "execution_count": 44,
   "id": "8f12c552",
   "metadata": {},
   "outputs": [
    {
     "data": {
      "image/png": "[encoded data removed]",
      "text/plain": [
       "<Figure size 432x288 with 2 Axes>"
      ]
     },
     "metadata": {},
     "output_type": "display_data"
    }
   ],
   "source": [
    "from sklearn.metrics import classification_report, confusion_matrix\n",
    "\n",
    "#Plot the confusion matrix\n",
    "sns.set(font_scale=1.5)\n",
    "cm = confusion_matrix(y_test, y_predict)\n",
    "ax = sns.heatmap(cm, annot=True, cmap='BuPu', fmt='g')\n",
    "bottom, top = ax.get_ylim()\n",
    "ax.set_ylim(bottom + 0.5, top - 0.5)\n",
    "plt.xlabel(\"Predicted label\")\n",
    "plt.ylabel(\"True label\")\n",
    "\n",
    "plt.show()"
   ]
  },
  {
   "cell_type": "code",
   "execution_count": 45,
   "id": "7b776438",
   "metadata": {},
   "outputs": [
    {
     "name": "stdout",
     "output_type": "stream",
     "text": [
      "              precision    recall  f1-score   support\n",
      "\n",
      "           0       0.87      0.85      0.86      2393\n",
      "           1       0.46      0.51      0.48       607\n",
      "\n",
      "    accuracy                           0.78      3000\n",
      "   macro avg       0.67      0.68      0.67      3000\n",
      "weighted avg       0.79      0.78      0.78      3000\n",
      "\n"
     ]
    }
   ],
   "source": [
    "print (classification_report(y_test,y_predict))"
   ]
  },
  {
   "cell_type": "markdown",
   "id": "52a900ae",
   "metadata": {},
   "source": [
    "### Hyperparameter Tuning."
   ]
  },
  {
   "cell_type": "code",
   "execution_count": 46,
   "id": "3af796b1",
   "metadata": {},
   "outputs": [],
   "source": [
    "#we import the GridSearchCv we use this to perform hyperameter variable tunning\n",
    "from sklearn.model_selection import GridSearchCV"
   ]
  },
  {
   "cell_type": "code",
   "execution_count": 47,
   "id": "c789c31a",
   "metadata": {},
   "outputs": [],
   "source": [
    "#lets create the parameters for the nodes\n",
    "parameters = {'max_depth': (2,4,6,8,10),\n",
    "             'criterion': ('gini','entropy'),\n",
    "             'min_samples_leaf' : (1,2,3,4,5),\n",
    "             'max_leaf_nodes' : (3,4,5,6,7,8,9,10)\n",
    "        \n",
    "             }"
   ]
  },
  {
   "cell_type": "code",
   "execution_count": 48,
   "id": "ffbba68d",
   "metadata": {},
   "outputs": [],
   "source": [
    "gridsearch_tree = GridSearchCV(estimator = churndtree,\n",
    "                           param_grid = parameters,\n",
    "                           scoring = 'accuracy',\n",
    "                           cv = 10,\n",
    "                        n_jobs = -1\n",
    "                          )"
   ]
  },
  {
   "cell_type": "code",
   "execution_count": 49,
   "id": "655622c6",
   "metadata": {},
   "outputs": [
    {
     "data": {
      "text/plain": [
       "GridSearchCV(cv=10, estimator=DecisionTreeClassifier(), n_jobs=-1,\n",
       "             param_grid={'criterion': ('gini', 'entropy'),\n",
       "                         'max_depth': (2, 4, 6, 8, 10),\n",
       "                         'max_leaf_nodes': (3, 4, 5, 6, 7, 8, 9, 10),\n",
       "                         'min_samples_leaf': (1, 2, 3, 4, 5)},\n",
       "             scoring='accuracy')"
      ]
     },
     "execution_count": 49,
     "metadata": {},
     "output_type": "execute_result"
    }
   ],
   "source": [
    "#lets fit it\n",
    "gridsearch_tree.fit(X_train, y_train)"
   ]
  },
  {
   "cell_type": "code",
   "execution_count": 50,
   "id": "bc6e502f",
   "metadata": {},
   "outputs": [
    {
     "name": "stdout",
     "output_type": "stream",
     "text": [
      "tuned  decision tree perameter: {'criterion': 'gini', 'max_depth': 6, 'max_leaf_nodes': 9, 'min_samples_leaf': 1}\n",
      "best score: 0.8545714285714284\n"
     ]
    }
   ],
   "source": [
    "#we need to print out the tuned parameters\n",
    "print(\"tuned  decision tree perameter: {}\" .format(gridsearch_tree.best_params_))\n",
    "print(\"best score: {}\" .format(gridsearch_tree.best_score_))"
   ]
  },
  {
   "cell_type": "code",
   "execution_count": 51,
   "id": "5ad10fa2",
   "metadata": {},
   "outputs": [],
   "source": [
    "##The best score 0.85"
   ]
  },
  {
   "cell_type": "code",
   "execution_count": 52,
   "id": "1d075ed7",
   "metadata": {},
   "outputs": [
    {
     "name": "stdout",
     "output_type": "stream",
     "text": [
      "best estimator: DecisionTreeClassifier(max_depth=6, max_leaf_nodes=9)\n"
     ]
    }
   ],
   "source": [
    "#we now print the best estimator\n",
    "print(\"best estimator: {}\" .format(gridsearch_tree.best_estimator_))"
   ]
  },
  {
   "cell_type": "code",
   "execution_count": 53,
   "id": "8d7d3b94",
   "metadata": {},
   "outputs": [
    {
     "data": {
      "text/plain": [
       "DecisionTreeClassifier()"
      ]
     },
     "execution_count": 53,
     "metadata": {},
     "output_type": "execute_result"
    }
   ],
   "source": [
    "churndtree.fit(X_train,y_train)"
   ]
  },
  {
   "cell_type": "code",
   "execution_count": 54,
   "id": "a64d5ff7",
   "metadata": {},
   "outputs": [],
   "source": [
    "y_predict = churndtree.predict(X_test)"
   ]
  },
  {
   "cell_type": "code",
   "execution_count": 55,
   "id": "ce68a3d2",
   "metadata": {},
   "outputs": [
    {
     "name": "stdout",
     "output_type": "stream",
     "text": [
      " Tuned DecisionTrees's Accuracy on Train set:  1.0\n",
      "Tuned DecisionTrees's Accuracy on Test set :  0.7763333333333333\n"
     ]
    }
   ],
   "source": [
    "from sklearn import metrics\n",
    "print(\" Tuned DecisionTrees's Accuracy on Train set: \", metrics.accuracy_score(y_train,churndtree.predict(X_train)))\n",
    "print(\"Tuned DecisionTrees's Accuracy on Test set : \", metrics.accuracy_score(y_test, y_predict))"
   ]
  },
  {
   "cell_type": "code",
   "execution_count": 56,
   "id": "77598ff5",
   "metadata": {},
   "outputs": [
    {
     "data": {
      "image/png": "[encoded data removed]",
      "text/plain": [
       "<Figure size 432x288 with 2 Axes>"
      ]
     },
     "metadata": {},
     "output_type": "display_data"
    }
   ],
   "source": [
    "from sklearn.metrics import classification_report, confusion_matrix\n",
    "#Plot the confusion matrix\n",
    "sns.set(font_scale=1.5)\n",
    "cm = confusion_matrix(y_test, y_predict)\n",
    "ax = sns.heatmap(cm, annot=True, cmap='BuPu', fmt='g')\n",
    "bottom, top = ax.get_ylim()\n",
    "ax.set_ylim(bottom + 0.5, top - 0.5)\n",
    "plt.xlabel(\"Predicted label\")\n",
    "plt.ylabel(\"True label\")\n",
    "\n",
    "plt.show()"
   ]
  },
  {
   "cell_type": "code",
   "execution_count": 57,
   "id": "fc19aa1c",
   "metadata": {},
   "outputs": [
    {
     "name": "stdout",
     "output_type": "stream",
     "text": [
      "              precision    recall  f1-score   support\n",
      "\n",
      "           0       0.87      0.85      0.86      2393\n",
      "           1       0.45      0.50      0.48       607\n",
      "\n",
      "    accuracy                           0.78      3000\n",
      "   macro avg       0.66      0.67      0.67      3000\n",
      "weighted avg       0.79      0.78      0.78      3000\n",
      "\n"
     ]
    }
   ],
   "source": [
    "print (classification_report(y_test,y_predict))"
   ]
  },
  {
   "cell_type": "markdown",
   "id": "e784231b",
   "metadata": {},
   "source": [
    "### Random Forest_Model"
   ]
  },
  {
   "cell_type": "code",
   "execution_count": 58,
   "id": "c738204c",
   "metadata": {},
   "outputs": [],
   "source": [
    "#Import the necessary libraries\n",
    "from sklearn.model_selection import train_test_split, cross_val_score,KFold,StratifiedKFold, GridSearchCV\n",
    "from sklearn.metrics import confusion_matrix,accuracy_score,f1_score,average_precision_score,recall_score,roc_auc_score\n",
    "from sklearn.preprocessing import RobustScaler,StandardScaler,LabelEncoder,MinMaxScaler\n",
    "from sklearn.ensemble import RandomForestClassifier"
   ]
  },
  {
   "cell_type": "code",
   "execution_count": 59,
   "id": "11db1935",
   "metadata": {},
   "outputs": [
    {
     "data": {
      "text/plain": [
       "RandomForestClassifier(max_depth=10, n_estimators=350)"
      ]
     },
     "execution_count": 59,
     "metadata": {},
     "output_type": "execute_result"
    }
   ],
   "source": [
    "#Parameters have been choosing based on GridSearchCV\n",
    "random_forest = RandomForestClassifier(max_depth=10,n_estimators=350)\n",
    "random_forest.fit(X_train,y_train)"
   ]
  },
  {
   "cell_type": "markdown",
   "id": "59439172",
   "metadata": {},
   "source": [
    "### Evaluate the model accuracy"
   ]
  },
  {
   "cell_type": "code",
   "execution_count": 60,
   "id": "d3109310",
   "metadata": {},
   "outputs": [
    {
     "name": "stdout",
     "output_type": "stream",
     "text": [
      "Score RFC Train:  84.43%\n",
      "Score RFC Test:  83.88%\n"
     ]
    }
   ],
   "source": [
    "forest_score = cross_val_score(random_forest, X_train, y_train, cv=10,scoring='roc_auc_ovo')\n",
    "forest_score_teste = cross_val_score(random_forest, X_test, y_test, cv=10,scoring='roc_auc_ovo')\n",
    "print('Score RFC Train: ', round(forest_score.mean() * 100, 2).astype(str) + '%')\n",
    "print('Score RFC Test: ', round(forest_score_teste.mean() * 100, 2).astype(str) + '%')"
   ]
  },
  {
   "cell_type": "code",
   "execution_count": 61,
   "id": "111ff11b",
   "metadata": {},
   "outputs": [],
   "source": [
    "#lets get the y_prediction that the target\n",
    "y_pred_rf = random_forest.predict(X_test)"
   ]
  },
  {
   "cell_type": "code",
   "execution_count": 62,
   "id": "fdcfd466",
   "metadata": {},
   "outputs": [],
   "source": [
    "#create confussion Matrix\n",
    "cm_rf = confusion_matrix(y_test,y_pred_rf)"
   ]
  },
  {
   "cell_type": "code",
   "execution_count": 63,
   "id": "433bf377",
   "metadata": {},
   "outputs": [
    {
     "name": "stdout",
     "output_type": "stream",
     "text": [
      "Accuracy Random Forest  85.33%\n",
      "Pred media Random Forest  42.45%\n",
      "F1 Random Forest  51.75%\n",
      "Recall Random Forest  38.88%\n",
      "ROC Random Forest  68.0%\n"
     ]
    }
   ],
   "source": [
    "#display our accuracy results\n",
    "acc_score_rf = accuracy_score(y_test,y_pred_rf)\n",
    "f1_score_rf = f1_score(y_test,y_pred_rf)\n",
    "pred_rf = average_precision_score(y_test,y_pred_rf)\n",
    "recall_rf = recall_score(y_test,y_pred_rf)\n",
    "roc_rf = roc_auc_score(y_test,y_pred_rf,multi_class='ovo')\n",
    "print('Accuracy Random Forest ',round(acc_score_rf*100,2).astype(str)+'%')\n",
    "print('Pred media Random Forest ',round(pred_rf*100,2).astype(str)+'%')\n",
    "print('F1 Random Forest ',round(f1_score_rf*100,2).astype(str)+'%')\n",
    "print('Recall Random Forest ',round(recall_rf*100,2).astype(str)+'%')\n",
    "print('ROC Random Forest ',round(roc_rf*100,2).astype(str)+'%')"
   ]
  },
  {
   "cell_type": "code",
   "execution_count": 64,
   "id": "6b332a28",
   "metadata": {},
   "outputs": [
    {
     "data": {
      "text/plain": [
       "[Text(0, 0.5, 'B'), Text(0, 1.5, 'M')]"
      ]
     },
     "execution_count": 64,
     "metadata": {},
     "output_type": "execute_result"
    },
    {
     "data": {
      "image/png": "[encoded data removed]",
      "text/plain": [
       "<Figure size 720x432 with 2 Axes>"
      ]
     },
     "metadata": {},
     "output_type": "display_data"
    }
   ],
   "source": [
    "#Plot a heatmap for the Random Forest Confusion Matrix\n",
    "fig, ax = plt.subplots(figsize=(10,6))\n",
    "sns.heatmap(cm_rf, ax=ax, annot=True, cmap=plt.cm.copper)\n",
    "ax.set_title(\"Random Forest \\n Confusion Matrix\", fontsize=14)\n",
    "ax.set_xticklabels(['B', 'M'], fontsize=14, rotation=0)\n",
    "ax.set_yticklabels(['B', 'M'], fontsize=14, rotation=360)"
   ]
  },
  {
   "cell_type": "markdown",
   "id": "ed83beb1",
   "metadata": {},
   "source": [
    "###### Hyper-parameter Tuning with the Validation Set"
   ]
  },
  {
   "cell_type": "markdown",
   "id": "a177647e",
   "metadata": {},
   "source": [
    "- We will use the validation set to hone the model’s complexity to the sweet spot.The validation set essentially allows us to check how “overfitted” or “underfitted” our model is.\n",
    "- It allow us to both tune the model complexity to the sweet spot and provides a much better estimate of how the model will perform with unseen data since the model does not use the validation data to train on."
   ]
  },
  {
   "cell_type": "code",
   "execution_count": 65,
   "id": "20969e5a",
   "metadata": {},
   "outputs": [
    {
     "name": "stdout",
     "output_type": "stream",
     "text": [
      "(10000, 8)\n",
      "(10000,)\n"
     ]
    }
   ],
   "source": [
    "# Data validation\n",
    "X=churn_df2.drop('exited',axis=1)\n",
    "y=churn_df2['exited']\n",
    "\n",
    "train_fraction = 0.8\n",
    "split_point = int(train_fraction *len(X)) # (len(X) and len(y) are the same anyway)\n",
    "X_train = X[0:split_point]\n",
    "X_valid = X[split_point:]\n",
    "\n",
    "y_train= y[0:split_point]\n",
    "y_valid= y[split_point:]\n",
    "\n",
    "print(X.shape)\n",
    "print(y.shape)"
   ]
  },
  {
   "cell_type": "code",
   "execution_count": 66,
   "id": "58776d33",
   "metadata": {},
   "outputs": [],
   "source": [
    "#import the split library\n",
    "from sklearn.model_selection import train_test_split\n",
    "X_train, X_valid, y_train, y_valid = train_test_split(X, y, train_size=0.8,test_size=0.2, random_state=101)"
   ]
  },
  {
   "cell_type": "code",
   "execution_count": 67,
   "id": "56447abd",
   "metadata": {},
   "outputs": [
    {
     "name": "stdout",
     "output_type": "stream",
     "text": [
      "len(charn_df2): 10000, split_point: 8000, len(X_train): 8000, len(X_valid): 2000, len(y_train): 8000, len(y_valid): 2000\n"
     ]
    }
   ],
   "source": [
    "print(\"len(charn_df2): {}, split_point: {}, len(X_train): {}, len(X_valid): {}, len(y_train): {}, len(y_valid): {}\".format(len(churn_df2), split_point, len(X_train), len(X_valid), len(y_train), len(y_valid))) "
   ]
  },
  {
   "cell_type": "code",
   "execution_count": 68,
   "id": "985c6020",
   "metadata": {},
   "outputs": [
    {
     "name": "stdout",
     "output_type": "stream",
     "text": [
      "len(X): 10000 len(y): 10000 \n",
      "len(X_train): 7000, len(X_valid): 2000, len(X_test): 1000 \n",
      "len(y_train): 7000, len(y_valid): 2000, len(y_test): 1000\n"
     ]
    }
   ],
   "source": [
    "# split the full data 80:20 into training:validation sets\n",
    "X_train, X_valid, y_train, y_valid = train_test_split(X, y, train_size=0.8, random_state=101)\n",
    "\n",
    "# split training data 87.5:12.5 into training:testing sets\n",
    "X_train, X_test, y_train, y_test = train_test_split(X_train, y_train, train_size=0.875, random_state=101)\n",
    "\n",
    "print(\"len(X): {} len(y): {} \\nlen(X_train): {}, len(X_valid): {}, len(X_test): \\\n",
    "{} \\nlen(y_train): {}, len(y_valid): {}, len(y_test): {}\".format(len(X), len(y),\\\n",
    "len(X_train), len(X_valid), len(X_test), len(y_train), len(y_valid), \\\n",
    "len(y_test))) "
   ]
  },
  {
   "cell_type": "code",
   "execution_count": 69,
   "id": "65c66548",
   "metadata": {},
   "outputs": [],
   "source": [
    "maxdepths=[3,4,5,6,7,8,9,10,11,15,20,25,30,35,40,45,50,60]# alist contains\n",
    "trainAcc=np.zeros(len(maxdepths))\n",
    "testAcc=np.zeros(len(maxdepths))\n"
   ]
  },
  {
   "cell_type": "code",
   "execution_count": 70,
   "id": "a7b434a6",
   "metadata": {},
   "outputs": [],
   "source": [
    "#we import the dtree classifier\n",
    "from sklearn.tree import DecisionTreeClassifier\n",
    "index=0\n",
    "for depth in maxdepths:\n",
    "    clf=tree.DecisionTreeClassifier(max_depth=depth)\n",
    "    clf=clf.fit(X_train,y_train)\n",
    "    y_predTrain=clf.predict(X_train)\n",
    "    y_predTest=clf.predict(X_valid)\n",
    "    trainAcc[index]=accuracy_score(y_train,y_predTrain)\n",
    "    testAcc[index]=accuracy_score(y_valid,y_predTest)\n",
    "    index +=1"
   ]
  },
  {
   "cell_type": "code",
   "execution_count": 71,
   "id": "459e9187",
   "metadata": {},
   "outputs": [
    {
     "data": {
      "text/plain": [
       "Text(0, 0.5, 'Accuracy')"
      ]
     },
     "execution_count": 71,
     "metadata": {},
     "output_type": "execute_result"
    },
    {
     "data": {
      "image/png": "[encoded data removed]",
      "text/plain": [
       "<Figure size 432x288 with 1 Axes>"
      ]
     },
     "metadata": {},
     "output_type": "display_data"
    }
   ],
   "source": [
    "plt.plot(maxdepths,trainAcc,'ro-',maxdepths,testAcc,'bv--')\n",
    "plt.legend(['Training Accuracy','Validation Accuracy'])\n",
    "plt.xlabel('Max Depth')\n",
    "plt.ylabel('Accuracy')"
   ]
  },
  {
   "cell_type": "markdown",
   "id": "103bb690",
   "metadata": {},
   "source": [
    "The precision of the model on previousy unseen test data is slightly higher with regard to predicting 1's i.e. those customers that churn. However, in as much as the model has a high accuracy, it still misses about half of those who end up churning. This could be improved by providing retraining the model with more data over time while in the meantime working with the model to save the 20% that would have churned."
   ]
  },
  {
   "cell_type": "code",
   "execution_count": 72,
   "id": "8fd082a9",
   "metadata": {},
   "outputs": [],
   "source": [
    "#lets predict our model.\n",
    "y_predict = churndtree.predict(X_valid)"
   ]
  },
  {
   "cell_type": "code",
   "execution_count": 73,
   "id": "473e959f",
   "metadata": {},
   "outputs": [
    {
     "name": "stdout",
     "output_type": "stream",
     "text": [
      "DecisionTrees's Accuracy on Train set:  0.9351428571428572\n",
      "DecisionTrees's Accuracy on Validation set :  0.9285\n"
     ]
    }
   ],
   "source": [
    "from sklearn import metrics\n",
    "print(\"DecisionTrees's Accuracy on Train set: \", metrics.accuracy_score(y_train, churndtree.predict(X_train)))\n",
    "print(\"DecisionTrees's Accuracy on Validation set : \", metrics.accuracy_score(y_valid, y_predict))"
   ]
  },
  {
   "cell_type": "code",
   "execution_count": 74,
   "id": "2a169941",
   "metadata": {},
   "outputs": [
    {
     "name": "stdout",
     "output_type": "stream",
     "text": [
      "              precision    recall  f1-score   support\n",
      "\n",
      "           0       0.96      0.95      0.95      1577\n",
      "           1       0.82      0.84      0.83       423\n",
      "\n",
      "    accuracy                           0.93      2000\n",
      "   macro avg       0.89      0.90      0.89      2000\n",
      "weighted avg       0.93      0.93      0.93      2000\n",
      "\n"
     ]
    }
   ],
   "source": [
    "print (classification_report(y_valid,y_predict))"
   ]
  },
  {
   "cell_type": "markdown",
   "id": "29cb2b09",
   "metadata": {},
   "source": [
    "### Lets subject the Random Forest Model with our validation data."
   ]
  },
  {
   "cell_type": "code",
   "execution_count": 75,
   "id": "84e75702",
   "metadata": {},
   "outputs": [
    {
     "name": "stdout",
     "output_type": "stream",
     "text": [
      "Score RFC Train:  83.76%\n",
      "Score RFC Validation:  85.44%\n"
     ]
    }
   ],
   "source": [
    "forest_score = cross_val_score(random_forest, X_train, y_train, cv=10,scoring='roc_auc_ovo')\n",
    "forest_score_teste = cross_val_score(random_forest, X_valid, y_valid, cv=10,scoring='roc_auc_ovo')\n",
    "print('Score RFC Train: ', round(forest_score.mean() * 100, 2).astype(str) + '%')\n",
    "print('Score RFC Validation: ', round(forest_score_teste.mean() * 100, 2).astype(str) + '%')"
   ]
  },
  {
   "cell_type": "code",
   "execution_count": 76,
   "id": "ed4028f5",
   "metadata": {},
   "outputs": [],
   "source": [
    "y_pred_rf = random_forest.predict(X_valid)"
   ]
  },
  {
   "cell_type": "code",
   "execution_count": 77,
   "id": "6f81c052",
   "metadata": {},
   "outputs": [],
   "source": [
    "cm_rf = confusion_matrix(y_valid,y_pred_rf)"
   ]
  },
  {
   "cell_type": "code",
   "execution_count": 78,
   "id": "6e647835",
   "metadata": {},
   "outputs": [
    {
     "name": "stdout",
     "output_type": "stream",
     "text": [
      "Accuracy Random Forest  87.7%\n",
      "Pred media Random Forest  53.55%\n",
      "F1 Random Forest  63.06%\n",
      "Recall Random Forest  49.65%\n",
      "ROC Random Forest  73.78%\n"
     ]
    }
   ],
   "source": [
    "#Lets check for the model accuracy and F1,ROC\n",
    "acc_score_rf = accuracy_score(y_valid,y_pred_rf)\n",
    "f1_score_rf = f1_score(y_valid,y_pred_rf)\n",
    "pred_rf = average_precision_score(y_valid,y_pred_rf)\n",
    "recall_rf = recall_score(y_valid,y_pred_rf)\n",
    "roc_rf = roc_auc_score(y_valid,y_pred_rf,multi_class='ovo')\n",
    "print('Accuracy Random Forest ',round(acc_score_rf*100,2).astype(str)+'%')\n",
    "print('Pred media Random Forest ',round(pred_rf*100,2).astype(str)+'%')\n",
    "print('F1 Random Forest ',round(f1_score_rf*100,2).astype(str)+'%')\n",
    "print('Recall Random Forest ',round(recall_rf*100,2).astype(str)+'%')\n",
    "print('ROC Random Forest ',round(roc_rf*100,2).astype(str)+'%')"
   ]
  },
  {
   "cell_type": "markdown",
   "id": "4d305a86",
   "metadata": {},
   "source": [
    "#### Logistic Regression model_validation data"
   ]
  },
  {
   "cell_type": "code",
   "execution_count": 79,
   "id": "360f02ca",
   "metadata": {},
   "outputs": [],
   "source": [
    "# import the model library\n",
    "from sklearn.linear_model import LogisticRegression\n",
    "logreg=LogisticRegression()"
   ]
  },
  {
   "cell_type": "code",
   "execution_count": 80,
   "id": "9fa98516",
   "metadata": {},
   "outputs": [
    {
     "data": {
      "text/plain": [
       "LogisticRegression()"
      ]
     },
     "execution_count": 80,
     "metadata": {},
     "output_type": "execute_result"
    }
   ],
   "source": [
    "#fit the model\n",
    "logreg.fit(X_valid,y_valid)"
   ]
  },
  {
   "cell_type": "code",
   "execution_count": 81,
   "id": "b238ac8b",
   "metadata": {},
   "outputs": [],
   "source": [
    "y_log_pred=logreg.predict(X_valid)"
   ]
  },
  {
   "cell_type": "code",
   "execution_count": 82,
   "id": "935d1675",
   "metadata": {},
   "outputs": [
    {
     "name": "stdout",
     "output_type": "stream",
     "text": [
      "Accuracy Score\n",
      "0.779\n"
     ]
    }
   ],
   "source": [
    "from sklearn import metrics\n",
    "from sklearn.metrics import classification_report,confusion_matrix\n",
    "print('Accuracy Score')\n",
    "print(metrics.accuracy_score(y_valid,y_log_pred))"
   ]
  },
  {
   "cell_type": "markdown",
   "id": "51b538cf",
   "metadata": {},
   "source": [
    "**Confussion Matrix**"
   ]
  },
  {
   "cell_type": "code",
   "execution_count": 83,
   "id": "c9a653bd",
   "metadata": {},
   "outputs": [
    {
     "name": "stdout",
     "output_type": "stream",
     "text": [
      "[[1537   40]\n",
      " [ 402   21]]\n"
     ]
    }
   ],
   "source": [
    "from sklearn.metrics import classification_report,confusion_matrix\n",
    "print(confusion_matrix(y_valid,y_log_pred))"
   ]
  },
  {
   "cell_type": "code",
   "execution_count": 84,
   "id": "84559569",
   "metadata": {},
   "outputs": [
    {
     "name": "stdout",
     "output_type": "stream",
     "text": [
      "              precision    recall  f1-score   support\n",
      "\n",
      "           0       0.79      0.97      0.87      1577\n",
      "           1       0.34      0.05      0.09       423\n",
      "\n",
      "    accuracy                           0.78      2000\n",
      "   macro avg       0.57      0.51      0.48      2000\n",
      "weighted avg       0.70      0.78      0.71      2000\n",
      "\n"
     ]
    }
   ],
   "source": [
    "#print the classification report precision,recall,f1_score\n",
    "print(classification_report(y_valid,y_log_pred))"
   ]
  },
  {
   "cell_type": "markdown",
   "id": "fb890066",
   "metadata": {},
   "source": [
    "**Checking the performance of our model by using ROC_AUC**"
   ]
  },
  {
   "cell_type": "code",
   "execution_count": 85,
   "id": "281126da",
   "metadata": {},
   "outputs": [
    {
     "data": {
      "image/png": "[encoded data removed]",
      "text/plain": [
       "<Figure size 432x288 with 1 Axes>"
      ]
     },
     "metadata": {},
     "output_type": "display_data"
    }
   ],
   "source": [
    "#Examining the AUC_ROC\n",
    "from sklearn.metrics import roc_auc_score\n",
    "from sklearn.metrics import roc_curve\n",
    "logit_roc_auc = roc_auc_score(y_valid, logreg.predict(X_valid))\n",
    "fpr, tpr, thresholds = roc_curve(y_valid, logreg.predict_proba(X_valid)[:,1])\n",
    "plt.figure()\n",
    "plt.plot(fpr, tpr, label='Logistic Regression (area = %0.2f)' % logit_roc_auc)\n",
    "plt.plot([0, 1], [0, 1],'r--')\n",
    "plt.xlim([0.0, 1.0])\n",
    "plt.ylim([0.0, 1.05])\n",
    "plt.xlabel('False Positive Rate')\n",
    "plt.ylabel('True Positive Rate')\n",
    "plt.title('Receiver operating characteristic')\n",
    "plt.legend(loc=\"lower right\")\n",
    "plt.savefig('Log_ROC')\n",
    "plt.show()"
   ]
  },
  {
   "cell_type": "markdown",
   "id": "f1638617",
   "metadata": {},
   "source": [
    "- We do not have much difference in our plotting."
   ]
  },
  {
   "cell_type": "markdown",
   "id": "ee7c11e0",
   "metadata": {},
   "source": [
    "### Building The Model Using K-Nearest Neighbor Classifier"
   ]
  },
  {
   "cell_type": "markdown",
   "id": "c4d26781",
   "metadata": {},
   "source": [
    "- Having already explored the same data in Decision tree,RandomForest and Regression Analysis\n",
    "    we therefore subject our data to KNN."
   ]
  },
  {
   "cell_type": "code",
   "execution_count": 86,
   "id": "f3b1ec9c",
   "metadata": {},
   "outputs": [],
   "source": [
    "from sklearn.model_selection import train_test_split\n",
    "X_train,X_test,y_train,y_test=train_test_split(X,y,test_size=0.3,random_state=21)"
   ]
  },
  {
   "cell_type": "code",
   "execution_count": 87,
   "id": "39eff79a",
   "metadata": {},
   "outputs": [
    {
     "data": {
      "text/html": [
       "<div>\n",
       "<style scoped>\n",
       "    .dataframe tbody tr th:only-of-type {\n",
       "        vertical-align: middle;\n",
       "    }\n",
       "\n",
       "    .dataframe tbody tr th {\n",
       "        vertical-align: top;\n",
       "    }\n",
       "\n",
       "    .dataframe thead th {\n",
       "        text-align: right;\n",
       "    }\n",
       "</style>\n",
       "<table border=\"1\" class=\"dataframe\">\n",
       "  <thead>\n",
       "    <tr style=\"text-align: right;\">\n",
       "      <th></th>\n",
       "      <th>creditscore</th>\n",
       "      <th>age</th>\n",
       "      <th>tenure</th>\n",
       "      <th>balance</th>\n",
       "      <th>numofproducts</th>\n",
       "      <th>hascrcard</th>\n",
       "      <th>isactivemember</th>\n",
       "      <th>estimatedsalary</th>\n",
       "    </tr>\n",
       "  </thead>\n",
       "  <tbody>\n",
       "    <tr>\n",
       "      <th>3644</th>\n",
       "      <td>593</td>\n",
       "      <td>32</td>\n",
       "      <td>3.0</td>\n",
       "      <td>0.0</td>\n",
       "      <td>2</td>\n",
       "      <td>1</td>\n",
       "      <td>1</td>\n",
       "      <td>151978.36</td>\n",
       "    </tr>\n",
       "    <tr>\n",
       "      <th>1828</th>\n",
       "      <td>547</td>\n",
       "      <td>31</td>\n",
       "      <td>9.0</td>\n",
       "      <td>0.0</td>\n",
       "      <td>2</td>\n",
       "      <td>0</td>\n",
       "      <td>0</td>\n",
       "      <td>99294.22</td>\n",
       "    </tr>\n",
       "    <tr>\n",
       "      <th>6661</th>\n",
       "      <td>820</td>\n",
       "      <td>36</td>\n",
       "      <td>4.0</td>\n",
       "      <td>0.0</td>\n",
       "      <td>2</td>\n",
       "      <td>1</td>\n",
       "      <td>0</td>\n",
       "      <td>31422.69</td>\n",
       "    </tr>\n",
       "    <tr>\n",
       "      <th>9216</th>\n",
       "      <td>724</td>\n",
       "      <td>30</td>\n",
       "      <td>10.0</td>\n",
       "      <td>0.0</td>\n",
       "      <td>2</td>\n",
       "      <td>1</td>\n",
       "      <td>1</td>\n",
       "      <td>54265.55</td>\n",
       "    </tr>\n",
       "    <tr>\n",
       "      <th>5911</th>\n",
       "      <td>752</td>\n",
       "      <td>33</td>\n",
       "      <td>4.0</td>\n",
       "      <td>0.0</td>\n",
       "      <td>2</td>\n",
       "      <td>1</td>\n",
       "      <td>1</td>\n",
       "      <td>39570.78</td>\n",
       "    </tr>\n",
       "    <tr>\n",
       "      <th>...</th>\n",
       "      <td>...</td>\n",
       "      <td>...</td>\n",
       "      <td>...</td>\n",
       "      <td>...</td>\n",
       "      <td>...</td>\n",
       "      <td>...</td>\n",
       "      <td>...</td>\n",
       "      <td>...</td>\n",
       "    </tr>\n",
       "    <tr>\n",
       "      <th>8886</th>\n",
       "      <td>575</td>\n",
       "      <td>36</td>\n",
       "      <td>1.0</td>\n",
       "      <td>0.0</td>\n",
       "      <td>1</td>\n",
       "      <td>0</td>\n",
       "      <td>1</td>\n",
       "      <td>94570.56</td>\n",
       "    </tr>\n",
       "    <tr>\n",
       "      <th>713</th>\n",
       "      <td>501</td>\n",
       "      <td>41</td>\n",
       "      <td>3.0</td>\n",
       "      <td>144260.5</td>\n",
       "      <td>1</td>\n",
       "      <td>1</td>\n",
       "      <td>0</td>\n",
       "      <td>172114.67</td>\n",
       "    </tr>\n",
       "    <tr>\n",
       "      <th>5055</th>\n",
       "      <td>739</td>\n",
       "      <td>31</td>\n",
       "      <td>1.0</td>\n",
       "      <td>0.0</td>\n",
       "      <td>2</td>\n",
       "      <td>1</td>\n",
       "      <td>1</td>\n",
       "      <td>58469.75</td>\n",
       "    </tr>\n",
       "    <tr>\n",
       "      <th>789</th>\n",
       "      <td>704</td>\n",
       "      <td>48</td>\n",
       "      <td>8.0</td>\n",
       "      <td>167997.6</td>\n",
       "      <td>1</td>\n",
       "      <td>1</td>\n",
       "      <td>1</td>\n",
       "      <td>173498.45</td>\n",
       "    </tr>\n",
       "    <tr>\n",
       "      <th>6890</th>\n",
       "      <td>490</td>\n",
       "      <td>39</td>\n",
       "      <td>1.0</td>\n",
       "      <td>0.0</td>\n",
       "      <td>3</td>\n",
       "      <td>1</td>\n",
       "      <td>0</td>\n",
       "      <td>171060.01</td>\n",
       "    </tr>\n",
       "  </tbody>\n",
       "</table>\n",
       "<p>3000 rows × 8 columns</p>\n",
       "</div>"
      ],
      "text/plain": [
       "      creditscore  age  tenure   balance  numofproducts  hascrcard  \\\n",
       "3644          593   32     3.0       0.0              2          1   \n",
       "1828          547   31     9.0       0.0              2          0   \n",
       "6661          820   36     4.0       0.0              2          1   \n",
       "9216          724   30    10.0       0.0              2          1   \n",
       "5911          752   33     4.0       0.0              2          1   \n",
       "...           ...  ...     ...       ...            ...        ...   \n",
       "8886          575   36     1.0       0.0              1          0   \n",
       "713           501   41     3.0  144260.5              1          1   \n",
       "5055          739   31     1.0       0.0              2          1   \n",
       "789           704   48     8.0  167997.6              1          1   \n",
       "6890          490   39     1.0       0.0              3          1   \n",
       "\n",
       "      isactivemember  estimatedsalary  \n",
       "3644               1        151978.36  \n",
       "1828               0         99294.22  \n",
       "6661               0         31422.69  \n",
       "9216               1         54265.55  \n",
       "5911               1         39570.78  \n",
       "...              ...              ...  \n",
       "8886               1         94570.56  \n",
       "713                0        172114.67  \n",
       "5055               1         58469.75  \n",
       "789                1        173498.45  \n",
       "6890               0        171060.01  \n",
       "\n",
       "[3000 rows x 8 columns]"
      ]
     },
     "execution_count": 87,
     "metadata": {},
     "output_type": "execute_result"
    }
   ],
   "source": [
    "#Display.max function in pandas enables us to display all values in our dataset.\n",
    "pd.options.display.max_columns=None\n",
    "X_test"
   ]
  },
  {
   "cell_type": "code",
   "execution_count": 88,
   "id": "83f41084",
   "metadata": {},
   "outputs": [],
   "source": [
    "#We import KNeighborsClassifier from sklearn\n",
    "from sklearn.neighbors import KNeighborsClassifier\n",
    "from sklearn.metrics import accuracy_score\n",
    "import matplotlib.pyplot as plt\n",
    "get_ipython().run_line_magic('matplotlib', 'inline')\n",
    "numNeighbours=[1,5,10,15,20,25,30]\n",
    "trainAcc=[]\n",
    "testAcc=[]"
   ]
  },
  {
   "cell_type": "code",
   "execution_count": 89,
   "id": "f1c4ebbf",
   "metadata": {},
   "outputs": [],
   "source": [
    "#We fit the KNearest Neighbor model to the training set\n",
    "for k in numNeighbours:\n",
    "    clf=KNeighborsClassifier(n_neighbors=k, metric='minkowski',p=2)\n",
    "    clf.fit(X_train,y_train)\n",
    "    y_predTrain=clf.predict(X_train)\n",
    "    y_predTest=clf.predict(X_test)\n",
    "    trainAcc.append(accuracy_score(y_train,y_predTrain))\n",
    "    testAcc.append(accuracy_score(y_test,y_predTest))"
   ]
  },
  {
   "cell_type": "code",
   "execution_count": 90,
   "id": "7977df15",
   "metadata": {},
   "outputs": [
    {
     "data": {
      "text/plain": [
       "Text(0, 0.5, 'Accuracy')"
      ]
     },
     "execution_count": 90,
     "metadata": {},
     "output_type": "execute_result"
    },
    {
     "data": {
      "image/png": "[encoded data removed]",
      "text/plain": [
       "<Figure size 432x288 with 1 Axes>"
      ]
     },
     "metadata": {
      "needs_background": "light"
     },
     "output_type": "display_data"
    }
   ],
   "source": [
    "plt.plot(numNeighbours,trainAcc,'ro-',numNeighbours,testAcc,'bv--')\n",
    "plt.legend(['Training Accuracy','Test Accuracy'])\n",
    "plt.xlabel('Number of Neighbours')\n",
    "plt.ylabel('Accuracy')"
   ]
  },
  {
   "cell_type": "code",
   "execution_count": 91,
   "id": "c2a2be85",
   "metadata": {},
   "outputs": [],
   "source": [
    "#it gives an accuracy of 0.8"
   ]
  },
  {
   "cell_type": "markdown",
   "id": "195a4654",
   "metadata": {},
   "source": [
    "### Handling  Imbalanced Classification datasets problem"
   ]
  },
  {
   "cell_type": "markdown",
   "id": "66d0149a",
   "metadata": {},
   "source": [
    "- Machine learning algorithms are designed to improve accuracy by reducing the error. However, When we build model to predict lower number of class, It will go fail and doesn't predict that class.\n",
    "- Confusion matrix is used when dealing with classification problem .This metric gives an interesting overview of how well a model is doing. Thus, it is a great starting point for any classification model evaluation."
   ]
  },
  {
   "cell_type": "markdown",
   "id": "dfbb1971",
   "metadata": {},
   "source": [
    "#### Adaptive Boosting- Ada Boost techniques for imbalanced data"
   ]
  },
  {
   "cell_type": "markdown",
   "id": "95da538e",
   "metadata": {},
   "source": [
    "- Each classifier is serially trained with the goal of correctly classifying examples in every round that were incorrectly classified in the previous round."
   ]
  },
  {
   "cell_type": "code",
   "execution_count": 92,
   "id": "5d4d711c",
   "metadata": {},
   "outputs": [
    {
     "data": {
      "text/plain": [
       "AdaBoostClassifier(n_estimators=102)"
      ]
     },
     "execution_count": 92,
     "metadata": {},
     "output_type": "execute_result"
    }
   ],
   "source": [
    "#Import the libraries\n",
    "from sklearn.ensemble import RandomForestClassifier, AdaBoostClassifier, GradientBoostingClassifier\n",
    "#Parameters have been choosing based on GridSearchCV\n",
    "ada = AdaBoostClassifier(n_estimators=102)\n",
    "ada.fit(X_train,y_train)"
   ]
  },
  {
   "cell_type": "code",
   "execution_count": 93,
   "id": "dbed84dd",
   "metadata": {},
   "outputs": [
    {
     "name": "stdout",
     "output_type": "stream",
     "text": [
      "Score AdaBoost Train:  82.89%\n",
      "Score AdaBoost Test:  82.06%\n"
     ]
    }
   ],
   "source": [
    "#Lets model and score \n",
    "ada_score = cross_val_score(ada, X_train, y_train, cv=10,scoring='roc_auc_ovo')\n",
    "ada_score_test = cross_val_score(ada, X_test, y_test, cv=10,scoring='roc_auc_ovo')\n",
    "print('Score AdaBoost Train: ', round(ada_score.mean() * 100, 2).astype(str) + '%')\n",
    "print('Score AdaBoost Test: ', round(ada_score_test.mean() * 100, 2).astype(str) + '%')"
   ]
  },
  {
   "cell_type": "code",
   "execution_count": 94,
   "id": "4ef00278",
   "metadata": {},
   "outputs": [],
   "source": [
    "#Lets predict and see\n",
    "y_pred_ada = ada.predict(X_test)"
   ]
  },
  {
   "cell_type": "code",
   "execution_count": 95,
   "id": "ab9a8972",
   "metadata": {},
   "outputs": [],
   "source": [
    "#Perform the confussion matrix\n",
    "cm_ada = confusion_matrix(y_test,y_pred_ada)"
   ]
  },
  {
   "cell_type": "code",
   "execution_count": 96,
   "id": "bc2e3ca3",
   "metadata": {},
   "outputs": [
    {
     "name": "stdout",
     "output_type": "stream",
     "text": [
      "Acuracy ADA Boost  84.67%\n",
      "Pred media Ada Boost  41.72%\n",
      "F1 Ada Boost  53.82%\n",
      "Recall Ada Boost  44.15%\n",
      "ROC Ada Boost  69.55%\n"
     ]
    }
   ],
   "source": [
    "#Display the ROC and accuracy F1 \n",
    "acc_score_ada = accuracy_score(y_test,y_pred_ada)\n",
    "f1_score_ada = f1_score(y_test,y_pred_ada)\n",
    "precisao_ada = average_precision_score(y_test,y_pred_ada)\n",
    "recall_ada = recall_score(y_test,y_pred_ada)\n",
    "roc_ada = roc_auc_score(y_test,y_pred_ada,multi_class='ovo')\n",
    "#print Accuracy, predicted ada,F1,Recall,ROC\n",
    "print('Acuracy ADA Boost ',round(acc_score_ada*100,2).astype(str)+'%')\n",
    "print('Pred media Ada Boost ',round(precisao_ada*100,2).astype(str)+'%')\n",
    "print('F1 Ada Boost ',round(f1_score_ada*100,2).astype(str)+'%')\n",
    "print('Recall Ada Boost ',round(recall_ada*100,2).astype(str)+'%')\n",
    "print('ROC Ada Boost ',round(roc_ada*100,2).astype(str)+'%')"
   ]
  },
  {
   "cell_type": "code",
   "execution_count": 97,
   "id": "109feb13",
   "metadata": {},
   "outputs": [
    {
     "data": {
      "text/plain": [
       "[Text(0, 0.5, 'B'), Text(0, 1.5, 'M')]"
      ]
     },
     "execution_count": 97,
     "metadata": {},
     "output_type": "execute_result"
    },
    {
     "data": {
      "image/png": "[encoded data removed]",
      "text/plain": [
       "<Figure size 720x432 with 2 Axes>"
      ]
     },
     "metadata": {
      "needs_background": "light"
     },
     "output_type": "display_data"
    }
   ],
   "source": [
    "#Lets plot our results for Ada\n",
    "fig, ax = plt.subplots(figsize=(10,6))\n",
    "sns.heatmap(cm_ada, ax=ax, annot=True, cmap=plt.cm.copper)\n",
    "ax.set_title(\"Ada Boost \\n Confusion Matrix\", fontsize=14)\n",
    "ax.set_xticklabels(['B', 'M'], fontsize=14, rotation=0)\n",
    "ax.set_yticklabels(['B', 'M'], fontsize=14, rotation=360)"
   ]
  },
  {
   "cell_type": "markdown",
   "id": "3b05157e",
   "metadata": {},
   "source": [
    "#### Gradient Boost Classifier- GBC Imbalance dataset \n",
    "\n",
    "_Gradient Boosting work on weak learners / classifiers. And try to boost them into a strong learner, Gradient Boosting builds the first learner on the training dataset to predict the samples, calculates the loss (Difference between real value and output of the first learner). And use this loss to build an improved learner in the second stage."
   ]
  },
  {
   "cell_type": "code",
   "execution_count": 98,
   "id": "0740d12a",
   "metadata": {},
   "outputs": [
    {
     "data": {
      "text/plain": [
       "GradientBoostingClassifier(max_depth=4, n_estimators=65)"
      ]
     },
     "execution_count": 98,
     "metadata": {},
     "output_type": "execute_result"
    }
   ],
   "source": [
    "#Parameters have been choosing based on GridSearchCV\n",
    "grad_boost = GradientBoostingClassifier(n_estimators=65,max_depth=4)\n",
    "grad_boost.fit(X_train, y_train)"
   ]
  },
  {
   "cell_type": "code",
   "execution_count": 99,
   "id": "7aa5943d",
   "metadata": {},
   "outputs": [
    {
     "name": "stdout",
     "output_type": "stream",
     "text": [
      "Score GradBoost Train:  84.71%\n",
      "Score GradBoost Test:  84.12%\n"
     ]
    }
   ],
   "source": [
    "#Train,test and score the GradBoost Classifier for our imbalanced dataset\n",
    "grad_score = cross_val_score(grad_boost, X_train, y_train, cv=10,scoring='roc_auc_ovo')\n",
    "grad_score_test = cross_val_score(grad_boost, X_test, y_test, cv=10,scoring='roc_auc_ovo')\n",
    "print('Score GradBoost Train: ', round(grad_score.mean() * 100, 2).astype(str) + '%')\n",
    "print('Score GradBoost Test: ', round(grad_score_test.mean() * 100, 2).astype(str) + '%')"
   ]
  },
  {
   "cell_type": "code",
   "execution_count": 100,
   "id": "97fa01ca",
   "metadata": {},
   "outputs": [],
   "source": [
    "y_pred_gb = grad_boost.predict(X_test)"
   ]
  },
  {
   "cell_type": "code",
   "execution_count": 101,
   "id": "2b32dca5",
   "metadata": {},
   "outputs": [],
   "source": [
    "#Confussion matrix\n",
    "cm_gb = confusion_matrix(y_test,y_pred_gb)"
   ]
  },
  {
   "cell_type": "code",
   "execution_count": 102,
   "id": "36a863c2",
   "metadata": {},
   "outputs": [
    {
     "name": "stdout",
     "output_type": "stream",
     "text": [
      "Acuracy Gradient Boosting  86.07%\n",
      "Pred media Gradient Boosting   45.28%\n",
      "F1 Gradient Boosting   55.72%\n",
      "Recall Gradient Boosting   43.33%\n",
      "ROC Gradient Boosting  70.12%\n"
     ]
    }
   ],
   "source": [
    "#check for the summary accuracy F1,ROC,Precision\n",
    "acc_score_gb = accuracy_score(y_test,y_pred_gb)\n",
    "f1_score_gb = f1_score(y_test,y_pred_gb)\n",
    "pred_gb = average_precision_score(y_test,y_pred_gb)\n",
    "recall_gb = recall_score(y_test,y_pred_gb)\n",
    "roc_gb = roc_auc_score(y_test,y_pred_gb,multi_class='ovo')\n",
    "print('Acuracy Gradient Boosting ',round(acc_score_gb*100,2).astype(str)+'%')\n",
    "print('Pred media Gradient Boosting  ',round(pred_gb*100,2).astype(str)+'%')\n",
    "print('F1 Gradient Boosting  ',round(f1_score_gb*100,2).astype(str)+'%')\n",
    "print('Recall Gradient Boosting  ',round(recall_gb*100,2).astype(str)+'%')\n",
    "print('ROC Gradient Boosting ',round(roc_gb*100,2).astype(str)+'%')"
   ]
  },
  {
   "cell_type": "code",
   "execution_count": 103,
   "id": "d1a15d75",
   "metadata": {},
   "outputs": [
    {
     "data": {
      "text/plain": [
       "[Text(0, 0.5, 'B'), Text(0, 1.5, 'M')]"
      ]
     },
     "execution_count": 103,
     "metadata": {},
     "output_type": "execute_result"
    },
    {
     "data": {
      "image/png": "[encoded data removed]",
      "text/plain": [
       "<Figure size 720x432 with 2 Axes>"
      ]
     },
     "metadata": {
      "needs_background": "light"
     },
     "output_type": "display_data"
    }
   ],
   "source": [
    "#plot a heat map for GradientBoosting\n",
    "\n",
    "fig, ax = plt.subplots(figsize=(10,6))\n",
    "sns.heatmap(cm_gb, ax=ax, annot=True, cmap=plt.cm.copper)\n",
    "ax.set_title(\"Gradient Boosting  \\n Confusion Matrix\", fontsize=14)\n",
    "ax.set_xticklabels(['B', 'M'], fontsize=14, rotation=0)\n",
    "ax.set_yticklabels(['B', 'M'], fontsize=14, rotation=360)"
   ]
  },
  {
   "cell_type": "code",
   "execution_count": 104,
   "id": "0c735ca7",
   "metadata": {},
   "outputs": [],
   "source": [
    "#score,test results for adaboosting gradientboost\n",
    "results = [ada_score,forest_score,grad_score]\n",
    "results_test = [ada_score_test,forest_score_teste,grad_score_test]\n",
    "name_model = [\"AdaBoost\",\"RFC\",\"GradBoost\"]"
   ]
  },
  {
   "cell_type": "code",
   "execution_count": 105,
   "id": "22a97694",
   "metadata": {},
   "outputs": [
    {
     "data": {
      "image/png": "[encoded data removed]",
      "text/plain": [
       "<Figure size 720x360 with 1 Axes>"
      ]
     },
     "metadata": {
      "needs_background": "light"
     },
     "output_type": "display_data"
    }
   ],
   "source": [
    "#plot the results on a box plot\n",
    "fig,ax=plt.subplots(figsize=(10,5))\n",
    "ax.boxplot(results)\n",
    "ax.set_xticklabels(name_model)\n",
    "plt.tight_layout()\n"
   ]
  },
  {
   "cell_type": "code",
   "execution_count": 106,
   "id": "c261dee6",
   "metadata": {},
   "outputs": [
    {
     "data": {
      "image/png": "[encoded data removed]",
      "text/plain": [
       "<Figure size 720x360 with 1 Axes>"
      ]
     },
     "metadata": {
      "needs_background": "light"
     },
     "output_type": "display_data"
    }
   ],
   "source": [
    "#plot the result tests\n",
    "fig,ax=plt.subplots(figsize=(10,5))\n",
    "ax.boxplot(results_test)\n",
    "ax.set_xticklabels(name_model)\n",
    "plt.tight_layout()"
   ]
  },
  {
   "cell_type": "markdown",
   "id": "3c3f387c",
   "metadata": {},
   "source": [
    "### Findings"
   ]
  },
  {
   "cell_type": "markdown",
   "id": "66337dcc",
   "metadata": {},
   "source": [
    "- Logistic Regression had an accuracy score of 0.78 with F1_0.10\n",
    "roc_auc_score 0.51\n",
    "DecisionTree had an accuracy 0.78,F1-score 0.48\n",
    "precision scion score 0.46,recall_0.51 after hyperparameter tunning the score im[proved to 0.85]\n",
    "Random Forest Accuracy was 85.33 precision_42.45\n",
    "F1-score_51.75 which is more than our requirment\n",
    "roc_auc_score-68%\n",
    "when the model was given unseen data we ended up\n",
    "with a good score Random Forest has 87.7%\n",
    "F1-score-63\n",
    "roc_auc_score-73%\n",
    "After imbalance of dataset handling the model accuracy reduced slightly\n",
    "in the score accuracy 86.07% with F1_score of 55.72%\n",
    "roc_auc_score-70.12%\n",
    "KNN is not a good model this dataset.\n",
    "\n",
    "*************************************************************************\n",
    "\n",
    "- From the above results, my main aim is to predict the customers that will possibly churn so they can be put in some sort of scheme to prevent churn hence the recall measures on the 1's is of more importance to me than the overall accuracy score of the model."
   ]
  },
  {
   "cell_type": "markdown",
   "id": "6e6087c7",
   "metadata": {},
   "source": [
    "### Recommendation"
   ]
  },
  {
   "cell_type": "markdown",
   "id": "bdb162e9",
   "metadata": {},
   "source": [
    "- Given that in the data we only had 20% of churn, a recall greater than this baseline will already be an improvement but we want to get as high as possible while trying to maintain a high precision so that the bank can train its resources effectively towards clients highlighted by the model without wasting too much resources on the false positives.\n",
    "- From the review of the fitted models above, the best model that gives a decent balance of the recall and precision is the random forest where according to the fit on the training set, with a precision score on 1's of 87.7, out of all customers that the model thinks will churn, rest of percentage do actually churn and with the recall score of 0.49 on the 1's, the model is able to highlight 53% of all those who churned."
   ]
  },
  {
   "cell_type": "markdown",
   "id": "2567af71",
   "metadata": {},
   "source": [
    "### 9 . Follow up questions\n",
    "##### a). Did we have the right data"
   ]
  },
  {
   "cell_type": "markdown",
   "id": "0a0f0ba9",
   "metadata": {},
   "source": [
    "Yes we had the right data."
   ]
  },
  {
   "cell_type": "markdown",
   "id": "6c81e1b6",
   "metadata": {},
   "source": [
    "##### b). Do we need other data to answer our question?"
   ]
  },
  {
   "cell_type": "markdown",
   "id": "337c2b03",
   "metadata": {},
   "source": [
    "We need to have sufficient data when some of the variables or observations are dropped we end up with model that struggles to predict the results."
   ]
  },
  {
   "cell_type": "code",
   "execution_count": null,
   "id": "95d8f209",
   "metadata": {},
   "outputs": [],
   "source": []
  }
 ],
 "metadata": {
  "celltoolbar": "Raw Cell Format",
  "kernelspec": {
   "display_name": "Python 3",
   "language": "python",
   "name": "python3"
  },
  "language_info": {
   "codemirror_mode": {
    "name": "ipython",
    "version": 3
   },
   "file_extension": ".py",
   "mimetype": "text/x-python",
   "name": "python",
   "nbconvert_exporter": "python",
   "pygments_lexer": "ipython3",
   "version": "3.8.8"
  }
 },
 "nbformat": 4,
 "nbformat_minor": 5
}
